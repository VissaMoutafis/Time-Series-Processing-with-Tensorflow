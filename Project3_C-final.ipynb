{
  "nbformat": 4,
  "nbformat_minor": 0,
  "metadata": {
    "colab": {
      "name": "Project3_C.ipynb",
      "provenance": [],
      "collapsed_sections": []
    },
    "kernelspec": {
      "name": "python3",
      "display_name": "Python 3"
    },
    "language_info": {
      "name": "python"
    }
  },
  "cells": [
    {
      "cell_type": "code",
      "source": [
        "import numpy as np \n",
        "import pandas as pd\n",
        "import matplotlib.pyplot as plt\n",
        "from matplotlib.pyplot import figure\n",
        "\n",
        "from sklearn.model_selection import train_test_split \n",
        "from sklearn.preprocessing import MinMaxScaler\n",
        "\n",
        "import tensorflow as tf\n",
        "from tensorflow.keras import layers, models\n",
        "from keras.callbacks import EarlyStopping\n",
        "from keras.layers.merge import concatenate\n",
        "\n",
        "from math import ceil\n",
        "\n",
        "import seaborn as sns\n",
        "sns.set()"
      ],
      "metadata": {
        "id": "1wov8U2Xn-Ma"
      },
      "execution_count": 1,
      "outputs": []
    },
    {
      "cell_type": "code",
      "source": [
        "from google.colab import drive\n",
        "drive.mount('/content/drive')"
      ],
      "metadata": {
        "colab": {
          "base_uri": "https://localhost:8080/"
        },
        "id": "6wOZefHUoN6N",
        "outputId": "862275d9-aa2c-4f38-c18e-478d15d94834"
      },
      "execution_count": 2,
      "outputs": [
        {
          "output_type": "stream",
          "name": "stdout",
          "text": [
            "Mounted at /content/drive\n"
          ]
        }
      ]
    },
    {
      "cell_type": "code",
      "source": [
        "input_dataset_path = 'drive/MyDrive/Collab-Datasets/nasd_input.csv'\n",
        "query_dataset_path = 'drive/MyDrive/Collab-Datasets/nasd_query.csv'\n",
        "DATASET_SIZE = 10\n",
        "LOOKBACK = 15"
      ],
      "metadata": {
        "id": "HAF5jK78oRoG"
      },
      "execution_count": 294,
      "outputs": []
    },
    {
      "cell_type": "code",
      "source": [
        "timeseries_df = pd.read_csv(input_dataset_path, sep='\\t', index_col=0, header=None).astype(np.float32).sample(DATASET_SIZE)\n",
        "TIME_SERIES_ID = timeseries_df.index.tolist()"
      ],
      "metadata": {
        "id": "jARNmYaJoUd-"
      },
      "execution_count": 295,
      "outputs": []
    },
    {
      "cell_type": "code",
      "source": [
        "def normalize(X, _max, _min):\n",
        "  return (X - _min)/(_max-_min) \n",
        "\n",
        "def reverse_normalize(X, _max, _min):\n",
        "  return X*(_max-_min) + _min \n",
        "\n",
        "def preprocess_timeseries(_timeseries, window=10, normalized=False, _max = None, _min = None):\n",
        "  if not normalized:\n",
        "    if _max is None:\n",
        "      _max = _timeseries.min()\n",
        "    if _min is None:\n",
        "      _min = _timeseries.max()\n",
        "\n",
        "    timeseries = normalize(_timeseries, _max, _min)\n",
        "  else:\n",
        "    timeseries = _timeseries\n",
        "  \n",
        "  X = None\n",
        "  for i in range(window, len(timeseries)):\n",
        "    X_i = np.asarray(timeseries[i-window:i]).reshape((1, len(timeseries[i-window:i]), 1))\n",
        "    X = np.concatenate((X, X_i)) if X is not None else X_i\n",
        "    \n",
        "  return X, X, _max, _min"
      ],
      "metadata": {
        "id": "mAptNRCWoXLI"
      },
      "execution_count": 403,
      "outputs": []
    },
    {
      "cell_type": "code",
      "source": [
        "window_length = 10\n",
        "X_all, _max, _min = preprocess_timeseries(timeseries_df.to_numpy()[0], window_length)\n",
        "X_train, X_test = train_test_split(X_all, test_size=0.33, shuffle=False)"
      ],
      "metadata": {
        "colab": {
          "base_uri": "https://localhost:8080/",
          "height": 202
        },
        "id": "j9xbm3R1pDWP",
        "outputId": "27e008d2-80c3-450f-fee3-b90b0faa1b69"
      },
      "execution_count": 404,
      "outputs": [
        {
          "output_type": "error",
          "ename": "ValueError",
          "evalue": "ignored",
          "traceback": [
            "\u001b[0;31m---------------------------------------------------------------------------\u001b[0m",
            "\u001b[0;31mValueError\u001b[0m                                Traceback (most recent call last)",
            "\u001b[0;32m<ipython-input-404-5eb1a38b427f>\u001b[0m in \u001b[0;36m<module>\u001b[0;34m()\u001b[0m\n\u001b[1;32m      1\u001b[0m \u001b[0mwindow_length\u001b[0m \u001b[0;34m=\u001b[0m \u001b[0;36m10\u001b[0m\u001b[0;34m\u001b[0m\u001b[0;34m\u001b[0m\u001b[0m\n\u001b[0;32m----> 2\u001b[0;31m \u001b[0mX_all\u001b[0m\u001b[0;34m,\u001b[0m \u001b[0m_max\u001b[0m\u001b[0;34m,\u001b[0m \u001b[0m_min\u001b[0m \u001b[0;34m=\u001b[0m \u001b[0mpreprocess_timeseries\u001b[0m\u001b[0;34m(\u001b[0m\u001b[0mtimeseries_df\u001b[0m\u001b[0;34m.\u001b[0m\u001b[0mto_numpy\u001b[0m\u001b[0;34m(\u001b[0m\u001b[0;34m)\u001b[0m\u001b[0;34m[\u001b[0m\u001b[0;36m0\u001b[0m\u001b[0;34m]\u001b[0m\u001b[0;34m,\u001b[0m \u001b[0mwindow_length\u001b[0m\u001b[0;34m)\u001b[0m\u001b[0;34m\u001b[0m\u001b[0;34m\u001b[0m\u001b[0m\n\u001b[0m\u001b[1;32m      3\u001b[0m \u001b[0mX_train\u001b[0m\u001b[0;34m,\u001b[0m \u001b[0mX_test\u001b[0m \u001b[0;34m=\u001b[0m \u001b[0mtrain_test_split\u001b[0m\u001b[0;34m(\u001b[0m\u001b[0mX_all\u001b[0m\u001b[0;34m,\u001b[0m \u001b[0mtest_size\u001b[0m\u001b[0;34m=\u001b[0m\u001b[0;36m0.33\u001b[0m\u001b[0;34m,\u001b[0m \u001b[0mshuffle\u001b[0m\u001b[0;34m=\u001b[0m\u001b[0;32mFalse\u001b[0m\u001b[0;34m)\u001b[0m\u001b[0;34m\u001b[0m\u001b[0;34m\u001b[0m\u001b[0m\n",
            "\u001b[0;31mValueError\u001b[0m: too many values to unpack (expected 3)"
          ]
        }
      ]
    },
    {
      "cell_type": "code",
      "source": [
        "class TimeSeriesComplexityReducerModel():\n",
        "  n_conv_filt_default = 10\n",
        "  def __init__(self, window_size, conv_layers_setting=[], latent_dim=3, pool_size=2, _optimizer='adam', _loss='mse', dropout_rate=None, verbose=False):\n",
        "    self.verbose=verbose\n",
        "    self.input_dim = window_size\n",
        "    self.latent_dim = latent_dim \n",
        "    self.pool_size = pool_size\n",
        "    \n",
        "    self.history = None\n",
        "    self.D_train = None\n",
        "    self.D_test = None\n",
        "    self.dropout = dropout_rate\n",
        "    self.optimizer = _optimizer\n",
        "    self.loss = _loss\n",
        "\n",
        "    # init input layer\n",
        "    input_w = layers.Input(shape=(window_size,1))\n",
        "    input_dim = window_size\n",
        "    x = input_w\n",
        "\n",
        "    # add the convolution layers\n",
        "    for conv_settings in conv_layers_setting:\n",
        "      # set up convolution filters and kernel dimensions \n",
        "      filters = self.n_conv_filt_default\n",
        "      if 'filters' in conv_settings:\n",
        "        filters = conv_settings['filters']\n",
        "      kernel_size = conv_settings['kernel_size']\n",
        "\n",
        "      # add the layer into the encoder\n",
        "      x = layers.Conv1D(filters, kernel_size, padding=\"same\", activation=\"relu\")(x)\n",
        "      \n",
        "      # downsample if you can\n",
        "      if ceil(input_dim/pool_size) > latent_dim:\n",
        "        input_dim = ceil(input_dim/pool_size)\n",
        "        x = layers.MaxPooling1D(pool_size, padding=\"same\")(x)\n",
        "\n",
        "      if self.dropout is not None:\n",
        "        x = layers.Dropout(self.dropout)(x)\n",
        "\n",
        "    # final compression\n",
        "    x = layers.Flatten()(x)\n",
        "    x = layers.Dense(latent_dim, activation='relu')(x)\n",
        "    encoded = layers.Reshape((latent_dim, 1))(x)\n",
        "    \n",
        "    self.encoder = models.Model(input_w, encoded, name='encoder')\n",
        "    if self.verbose:\n",
        "      self.encoder.summary()    \n",
        "\n",
        "\n",
        "    # decoder model\n",
        "    output_dim = latent_dim \n",
        "\n",
        "    x = layers.Conv1DTranspose(1, latent_dim, activation='relu', padding=\"same\")(encoded)\n",
        "    # up sampling\n",
        "    if output_dim*pool_size <= window_size:\n",
        "        output_dim = output_dim*pool_size\n",
        "        x = layers.UpSampling1D(pool_size)(x)\n",
        "    \n",
        "    # add dropout\n",
        "    if self.dropout is not None:\n",
        "      x = layers.Dropout(self.dropout)(x)\n",
        "\n",
        "    # for all conv layers provided add a reconstructor layer of the input timeseries\n",
        "    for i, conv_settings in enumerate(conv_layers_setting[::-1]):\n",
        "      padding=\"same\"\n",
        "      filters = self.n_conv_filt_default\n",
        "      if 'filters' in conv_settings:\n",
        "        filters = conv_settings['filters']\n",
        "      kernel_size = conv_settings['kernel_size']\n",
        "\n",
        "      x = layers.Conv1DTranspose(filters, kernel_size, activation=\"relu\", padding=padding)(x)\n",
        "      \n",
        "      if output_dim*pool_size <= window_size:\n",
        "        output_dim = output_dim*pool_size\n",
        "        x = layers.UpSampling1D(pool_size)(x)\n",
        "      \n",
        "      if self.dropout is not None:\n",
        "        x = layers.Dropout(self.dropout)(x)\n",
        "\n",
        "    # decoded = layers.Conv1DTranspose(1, window_size-output_dim+1, activation=\"sigmoid\")(x)\n",
        "    x = layers.Flatten()(x)\n",
        "    x = layers.Dense(window_size, activation='sigmoid')(x)\n",
        "    decoded = layers.Reshape((window_size, 1))(x)\n",
        "\n",
        "    self.autoencoder = models.Model(input_w, decoded, name=\"autoencoder\")\n",
        "    if self.verbose:\n",
        "      self.autoencoder.summary()\n",
        "    \n",
        "    self.autoencoder.compile(optimizer='adam', loss='mse')\n",
        "\n",
        "\n",
        "  def fit(self, X, y, epochs=50, batch_size=128):\n",
        "    X_train, X_test, y_train, y_test = train_test_split(X, y, test_size=0.33)\n",
        "    self.D_train = X_train, y_train\n",
        "    self.D_test = X_test, y_test\n",
        "    es = EarlyStopping(monitor=\"val_loss\", mode=\"min\", patience=10, min_delta=1e-4)\n",
        "    self.history = self.autoencoder.fit(\n",
        "      X_train,\n",
        "      y_train,\n",
        "      validation_data=(X_test, y_test),\n",
        "      epochs=epochs,\n",
        "      batch_size=batch_size,\n",
        "      verbose=1,\n",
        "      callbacks=[es],\n",
        "    )\n",
        "    return self.history\n",
        "\n",
        "  def predict(self, X):\n",
        "    return self.autoencoder.predict(X)\n",
        "\n",
        "  def encode(self, X):\n",
        "    return self.encoder.predict(X)\n",
        "\n",
        "  def evaluate(self, X, y_true):\n",
        "    return self.autoencoder.evaluate(X, y_true, batch_size=64)"
      ],
      "metadata": {
        "id": "NuVmfa77O56r"
      },
      "execution_count": 482,
      "outputs": []
    },
    {
      "cell_type": "code",
      "source": [
        "autoencoder = TimeSeriesComplexityReducerModel(window_length, [{'filters':64, 'kernel_size':7}, {'filters':64, 'kernel_size':7}], latent_dim=7, pool_size=2)"
      ],
      "metadata": {
        "id": "-Coq-aTnYR7S"
      },
      "execution_count": 483,
      "outputs": []
    },
    {
      "cell_type": "code",
      "source": [
        "def plot_examples(stock_input, stock_decoded):\n",
        "    n = 10  \n",
        "    plt.figure(figsize=(20, 4))\n",
        "    y_true = [v[0, 0] for v in stock_input[:]] + stock_input[-1, :, :].reshape(-1).tolist()\n",
        "    y_pred = [v[0, 0] for v in stock_decoded[:]]+ stock_decoded[-1, :, :].reshape(-1).tolist()\n",
        "    print(y_true)\n",
        "    plt.plot(range(len(y_true)), y_true, y_pred)"
      ],
      "metadata": {
        "id": "TOaFYVA9ptRb"
      },
      "execution_count": 484,
      "outputs": []
    },
    {
      "cell_type": "code",
      "source": [
        "test_samples = 50\n",
        "\n",
        "plot_examples(reverse_normalize(X_all, _max, _min), reverse_normalize(autoencoder.predict(X_all), _max, _min))"
      ],
      "metadata": {
        "colab": {
          "base_uri": "https://localhost:8080/",
          "height": 305
        },
        "id": "MfMbWQbYseyI",
        "outputId": "9b1ec406-1f69-4c13-98fc-f98ae151de3d"
      },
      "execution_count": 485,
      "outputs": [
        {
          "output_type": "stream",
          "name": "stdout",
          "text": [
            "[451.0, 440.92, 448.11, 451.0, 442.0, 436.65, 471.75, 465.74, 465.3, 356.5, 339.99, 335.99, 336.0, 334.05, 340.0, 310.12, 327.18, 340.87, 328.0, 330.01, 342.85, 312.26, 321.81, 214.28, 205.32, 231.35, 300.01, 269.68, 269.99, 240.11, 223.80998, 239.68001, 220.4, 190.75, 172.01001, 160.0, 156.33002, 168.45001, 170.4, 185.0, 195.28998, 183.51001, 177.0, 173.63, 181.75, 173.53, 187.25, 195.85, 199.5, 203.0, 215.0, 211.98999, 208.0, 188.29999, 177.04999, 193.0, 203.0, 203.65, 203.35999, 195.25, 206.5, 202.0, 203.0, 254.04, 236.43001, 225.99998, 210.07, 212.0, 204.22, 206.0, 202.5, 199.0, 193.54999, 192.08002, 191.0, 187.04999, 185.13, 202.97, 212.0, 232.33, 259.95, 255.04, 247.0, 239.0, 233.74998, 228.0, 236.31, 232.98001, 222.04, 231.95, 227.4, 223.82999, 221.28, 217.98999, 215.84999, 216.78998, 231.55, 224.0, 225.01, 216.5, 220.0, 216.57, 227.34999, 204.65, 197.85, 192.0, 181.85, 182.6, 177.02002, 173.98999, 183.85, 182.0, 185.0, 188.23999, 169.01001, 173.35, 173.06, 170.39001, 167.0, 168.20001, 163.84, 162.66, 171.28998, 162.0, 161.0, 162.89001, 167.0, 165.14001, 157.02002, 152.81, 151.35, 153.27002, 158.69, 157.88, 155.03, 145.27002, 140.5, 146.0, 146.0, 144.28998, 143.85, 140.5, 140.04999, 140.75, 133.63, 131.01001, 137.98999, 144.73999, 146.47, 147.04999, 147.1, 146.60999, 137.25, 135.27002, 133.95001, 139.13, 138.02002, 133.1, 135.0, 137.0, 132.0, 132.57, 130.45001, 130.04999, 133.75, 130.12, 132.85999, 113.98001, 105.47, 100.01001, 96.880005, 93.0, 79.75, 60.01001, 43.01001, 37.700012, 34.399994, 32.799988, 30.019989, 33.399994, 37.799988, 35.700012, 38.48999, 39.53, 39.0, 35.570007, 32.600006, 30.25, 27.220001, 25.0, 28.799988, 26.029999, 27.609985, 26.640015, 27.209991, 25.839996, 24.649994, 25.059998, 23.799988, 24.399994, 24.630005, 24.049988, 23.549988, 23.950012, 23.299988, 22.980011, 24.929993, 25.5, 28.0, 29.399994, 32.339996, 38.0, 31.600006, 29.609985, 33.350006, 29.799988, 29.359985, 28.399994, 26.730011, 27.549988, 26.700012, 25.200012, 25.209991, 25.5, 23.769989, 24.600006, 26.649994, 33.799988, 27.5, 26.609985, 26.0, 23.850006, 21.019989, 20.75, 19.170013, 17.5, 15.579987, 12.589996, 13.209991, 13.149994, 12.0, 13.350006, 14.119995, 14.609985, 16.609985, 16.959991, 16.5, 14.920013, 16.049988, 14.649994, 13.880005, 13.01001, 12.630005, 12.5, 12.399994, 11.339996, 13.600006, 14.269989, 13.959991, 14.589996, 15.350006, 16.559998, 19.059998, 20.299988, 18.01001, 19.440002, 17.549988, 17.160004, 20.01001, 19.920013, 19.970001, 15.480011, 15.689606, 16.820007, 16.470001, 15.040009, 16.980011, 17.070007, 17.01001, 16.380005, 15.440002, 17.380005, 16.649994, 16.950012, 16.350006, 15.649994, 15.450012, 15.25, 14.970001, 15.679993, 16.98999, 16.029999, 15.0, 14.690002, 15.190002, 15.049988, 15.730011, 16.950012, 18.429993, 17.600006, 18.950012, 19.299988, 18.359985, 17.950012, 17.640015, 18.01001, 17.0, 17.299988, 17.140015, 16.890015, 15.75, 14.209991, 13.320007, 13.200012, 13.029999, 13.149994, 13.399994, 13.329987, 13.369995, 13.75, 14.25, 14.089996, 13.980011, 13.640015, 12.899994, 12.029999, 11.769989, 11.859985, 11.799988, 12.76001, 14.279999, 14.149994, 16.589996, 16.140015, 18.019989, 20.119995, 20.230011, 19.369995, 19.86499, 19.890015, 21.859985, 20.399994, 18.279999, 16.679993, 16.01001, 15.529999, 15.23999, 15.209991, 15.040009, 16.75, 15.359985, 15.279999, 13.850006, 12.829987, 12.649994, 17.51001, 13.660004, 12.829987, 12.200012, 12.51001, 13.100006, 12.579987, 12.540009, 12.559998, 13.320007, 13.809998, 14.019989, 16.070007, 16.970001, 18.079987, 19.079987, 19.5, 21.320007, 22.359985, 24.369995, 22.359985, 22.279999, 20.660004, 18.929993, 16.630005, 16.839905, 16.920013, 16.559998, 17.950012, 17.609985, 17.0, 16.029999, 16.25, 14.980011, 13.5, 14.0, 14.549988, 14.570007, 14.791992, 13.850006, 13.709991, 13.5, 13.429993, 13.970001, 13.839996, 13.910004, 13.529999, 13.700012, 13.5, 12.940002, 13.769989, 14.299988, 15.269897, 13.829987, 13.410004, 13.029999, 13.079987, 12.859985, 12.549988, 12.839996, 12.649994, 12.769989, 13.109985, 13.595001, 13.279999, 12.839996, 13.109985, 13.299988, 13.675995, 13.709991, 13.619995, 14.059998, 14.140015, 13.540009, 13.590393, 13.299988, 12.720001, 12.799988, 13.149994, 13.519989, 14.130005, 14.450012, 13.470001, 13.160004, 13.220001, 13.100006, 13.5, 13.790009, 13.709991, 13.980011, 13.820007, 13.899994, 14.459991, 14.769989, 16.399994, 17.100006, 16.600006, 15.450012, 16.230011, 16.779999, 16.799988, 18.5, 21.950012, 21.179993, 21.26001, 22.25, 25.04129, 28.040009, 33.649994, 49.0, 41.200012, 35.0, 33.450012, 37.950012, 34.25, 36.649994, 38.549988, 37.549988, 32.850006, 32.950012, 32.5, 32.875, 34.149994, 35.049988, 35.5, 35.950012, 36.700012, 35.100006, 34.149994, 36.5, 36.600006, 36.600006, 33.0, 32.5, 30.25, 28.600006, 28.200012, 27.600006, 28.5, 29.0, 28.899994, 29.950012, 28.899994, 28.850006, 27.600006, 28.0, 29.0, 33.0, 37.049988, 41.549988, 42.5, 42.0, 41.850006, 43.799988, 46.850006, 53.950012, 48.0, 45.25, 51.5, 52.649994, 53.799988, 57.752014, 51.799988, 49.100006, 53.5, 53.0, 55.950012, 58.0, 59.0, 59.899994, 59.950012, 64.149994, 63.799988, 69.15781, 70.0, 70.29999, 73.0, 71.95001, 63.0, 63.899994, 62.450012, 59.649994, 61.950012, 62.25, 62.799988, 65.0, 80.48932, 76.350006, 80.25, 80.655, 77.75, 73.30109, 75.149994, 75.5, 76.07501, 77.975006, 74.648895, 76.850006, 75.0, 73.5, 72.0, 70.54999, 71.100006, 70.29999, 73.54999, 79.0, 85.899994, 80.600006, 77.399994, 76.600006, 75.399994, 75.95001, 74.45001, 74.54999, 74.20001, 73.5, 63.100006, 60.5, 60.0, 57.950012, 54.450012, 57.75, 61.5, 67.95001, 68.5, 74.99991, 75.25, 72.79999, 67.0, 64.0, 64.75, 67.0, 69.0, 69.600006, 71.14011, 72.0, 73.5, 72.95001, 73.0, 70.350006, 69.79999, 72.25, 74.850006, 74.5, 73.79999, 75.05371, 71.75, 70.54999, 69.649994, 71.70001, 72.04999, 75.5, 74.0, 71.95001, 70.149994, 73.45001, 76.149994, 73.04999, 73.5, 74.75, 74.95001, 78.54999, 89.0, 91.95001, 90.25, 90.0, 91.0, 91.75, 92.0, 90.5, 89.79999, 87.07501, 84.899994, 88.70001, 86.0, 87.850006, 88.54999, 84.100006, 89.45001, 85.20001, 87.0, 87.95001, 90.95001, 89.899994, 91.0, 87.95001, 88.0, 87.30499, 91.3992, 90.0, 88.975006, 92.0, 93.0, 91.649994, 91.9989, 91.45001, 92.5, 93.0, 92.24991, 94.0, 94.350006, 93.5, 95.0, 94.0, 93.0, 92.649994, 92.0, 91.899994, 92.0, 92.399994, 88.899994, 87.0, 87.0, 88.75, 86.25, 82.0, 74.75, 73.5, 73.54999, 73.75, 74.5, 75.75, 82.600006, 76.97742, 78.04999, 81.764404, 80.0, 80.0, 81.0, 86.0, 86.75, 91.70001, 93.0, 99.0, 108.70001, 101.95001, 100.0, 109.0, 102.787994, 103.75, 109.350006, 97.45001, 101.5, 98.0, 88.0, 87.51251, 88.95001, 85.0, 85.54999, 85.67499, 84.95001, 80.20001, 82.0, 84.00009, 87.25, 90.0, 89.04999, 87.649994, 84.04999, 84.5, 86.95001, 87.0, 86.29999, 85.25, 85.5, 85.5, 84.04998779296875, 85.5, 83.0, 83.64999389648438, 84.375, 88.0, 80.39999389648438, 81.0, 84.04998779296875]\n"
          ]
        },
        {
          "output_type": "display_data",
          "data": {
            "image/png": "[encoded data removed]",
            "text/plain": [
              "<Figure size 1440x288 with 1 Axes>"
            ]
          },
          "metadata": {
            "needs_background": "light"
          }
        }
      ]
    },
    {
      "cell_type": "code",
      "source": [
        "class TimeSeriesComplexityReducer:\n",
        "  def __init__(self, model, dataset, timeseries_labels=None):\n",
        "    self.dataset = dataset\n",
        "    self.model = model\n",
        "    self.history = []\n",
        "    self.trained = False\n",
        "    self.eval_data = []\n",
        "    self.labels = timeseries_labels if timeseries_labels is not None else list(range(len(dataset)))\n",
        "    self.max = []\n",
        "    self.min = []\n",
        "    self.X_train_all = None\n",
        "    self.y_train_all = None\n",
        "\n",
        "  def solve(self, epochs=100, batch_size=128):\n",
        "    self.trained = True\n",
        "        \n",
        "    for timeseries in self.dataset:\n",
        "      # preprocess timeseries\n",
        "      X_normalized, y_normalized, _max, _min = preprocess_timeseries(timeseries, self.model.input_dim)\n",
        "      self.max.append(_max)\n",
        "      self.min.append(_min)\n",
        "\n",
        "      # train-test for timeseries\n",
        "      train_lim = 5*len(X_normalized)//6\n",
        "      X_train, X_test, y_train, y_test = train_test_split(X_normalized, y_normalized, shuffle=False)\n",
        "            \n",
        "      self.X_train_all = X_train if self.X_train_all is None else np.concatenate((self.X_train_all, X_train))\n",
        "      \n",
        "      self.y_train_all = y_train if self.y_train_all is None else np.concatenate((self.y_train_all, y_train))\n",
        "      \n",
        "\n",
        "      # add the eval data in the respective array\n",
        "      self.eval_data.append((X_test, y_test))\n",
        "    \n",
        "    self.history = self.model.fit(self.X_train_all, self.y_train_all, epochs=epochs, batch_size=batch_size)\n",
        "\n",
        "  \n",
        "  def plot_graphs(self, timeseries_idx=None):\n",
        "    if not self.trained:\n",
        "      raise Exception(\"Problem not solved\")\n",
        "    if timeseries_idx is None:\n",
        "      timeseries_idx = range(len(self.labels))\n",
        "\n",
        "    figure(figsize=(20, 10))\n",
        "    lgnd = []\n",
        "    for i in timeseries_idx:\n",
        "      print(f'Ploting pred for {self.labels[i]}')\n",
        "      lgnd += [f\"{self.labels[i]}-True\", f\"{self.labels[i]}-Pred\"]\n",
        "      X, y = self.eval_data[i]\n",
        "      y_pred = self.model.predict(X)\n",
        "\n",
        "      y = np.concatenate((y[:, 0, 0].reshape(-1),y[-1, :, 0].reshape(-1)))\n",
        "      y_pred = np.concatenate((y_pred[:, 0, 0].reshape(-1),y_pred[-1, :, 0].reshape(-1)))\n",
        "\n",
        "      plt.plot(\n",
        "      range(len(y.reshape(-1))),\n",
        "      reverse_normalize(y, self.max[i], self.min[i]).reshape(-1),\n",
        "      \"o-\",\n",
        "      )\n",
        "\n",
        "      plt.plot(\n",
        "      range(len(y_pred.reshape(-1))),\n",
        "      reverse_normalize(y_pred, self.max[i], self.min[i]).reshape(-1),\n",
        "      \"o-\",\n",
        "      )\n",
        "    plt.legend(lgnd)\n",
        "    plt.show()\n",
        "\n",
        "  def sample_timeseries(self, _timeseries, window):\n",
        "    _max = _timeseries.min()\n",
        "    _min = _timeseries.max()\n",
        "    timeseries = normalize(_timeseries, _max, _min)\n",
        "  \n",
        "    X = None\n",
        "    for i in range(window, len(timeseries), window):\n",
        "      X_i = np.asarray(timeseries[i-window:i]).reshape((1, len(timeseries[i-window:i]), 1))\n",
        "      X = np.concatenate((X, X_i)) if X is not None else X_i\n",
        "    \n",
        "    if len(timeseries) % window > 0:\n",
        "      X_i = np.asarray(timeseries[-1-window:-1]).reshape((1, len(timeseries[-1-window:-1]), 1))\n",
        "      X = np.concatenate((X, X_i))\n",
        "\n",
        "    return X, X, _max, _min\n",
        "\n",
        "  def reduce_and_export(self, timeseries_ndarray, out_filename='test.out'):\n",
        "    def _reduce(timeseries):\n",
        "      X, y, _max, _min = self.sample_timeseries(timeseries, self.model.input_dim) \n",
        "      return self.model.encode(X).reshape(-1)\n",
        "    \n",
        "    return np.apply_along_axis(_reduce, 1, timeseries_ndarray)\n",
        "    \n",
        "      "
      ],
      "metadata": {
        "id": "Pvk7ZIJ0yHmR"
      },
      "execution_count": 621,
      "outputs": []
    },
    {
      "cell_type": "code",
      "source": [
        "problem=TimeSeriesComplexityReducer(autoencoder, timeseries_df.to_numpy(), TIME_SERIES_ID)"
      ],
      "metadata": {
        "id": "UwxP0bX4v-x5"
      },
      "execution_count": 622,
      "outputs": []
    },
    {
      "cell_type": "code",
      "source": [
        "problem.reduce_and_export(timeseries_df.to_numpy()[:1]).shape"
      ],
      "metadata": {
        "colab": {
          "base_uri": "https://localhost:8080/"
        },
        "id": "eq0ZNOSZIkMp",
        "outputId": "4d40331c-d3c3-4e6b-d761-b81f00b12c37"
      },
      "execution_count": 623,
      "outputs": [
        {
          "output_type": "execute_result",
          "data": {
            "text/plain": [
              "(1, 504)"
            ]
          },
          "metadata": {},
          "execution_count": 623
        }
      ]
    },
    {
      "cell_type": "code",
      "source": [
        ""
      ],
      "metadata": {
        "id": "GxtyjbeaLsJ0"
      },
      "execution_count": 617,
      "outputs": []
    }
  ]
}