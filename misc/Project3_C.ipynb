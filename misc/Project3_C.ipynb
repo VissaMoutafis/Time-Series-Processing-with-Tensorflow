{
  "nbformat": 4,
  "nbformat_minor": 0,
  "metadata": {
    "colab": {
      "name": "Project3_C.ipynb",
      "provenance": [],
      "collapsed_sections": []
    },
    "kernelspec": {
      "name": "python3",
      "display_name": "Python 3"
    },
    "language_info": {
      "name": "python"
    }
  },
  "cells": [
    {
      "cell_type": "code",
      "source": [
        "import numpy as np \n",
        "import pandas as pd\n",
        "import matplotlib.pyplot as plt\n",
        "from matplotlib.pyplot import figure\n",
        "\n",
        "from sklearn.model_selection import train_test_split \n",
        "from sklearn.preprocessing import MinMaxScaler\n",
        "\n",
        "import tensorflow as tf\n",
        "from tensorflow.keras import layers, models\n",
        "from keras.callbacks import EarlyStopping\n",
        "from keras.layers.merge import concatenate\n",
        "\n",
        "from math import ceil\n",
        "\n",
        "import seaborn as sns\n",
        "sns.set()"
      ],
      "metadata": {
        "id": "1wov8U2Xn-Ma"
      },
      "execution_count": 90,
      "outputs": []
    },
    {
      "cell_type": "code",
      "source": [
        "from google.colab import drive\n",
        "drive.mount('/content/drive')"
      ],
      "metadata": {
        "colab": {
          "base_uri": "https://localhost:8080/"
        },
        "id": "6wOZefHUoN6N",
        "outputId": "2676a5a6-3c6a-442c-f94e-f66474d805e3"
      },
      "execution_count": 91,
      "outputs": [
        {
          "output_type": "stream",
          "name": "stdout",
          "text": [
            "Drive already mounted at /content/drive; to attempt to forcibly remount, call drive.mount(\"/content/drive\", force_remount=True).\n"
          ]
        }
      ]
    },
    {
      "cell_type": "code",
      "source": [
        "input_dataset_path = 'drive/MyDrive/Collab-Datasets/nasd_input.csv'\n",
        "query_dataset_path = 'drive/MyDrive/Collab-Datasets/nasd_query.csv'\n",
        "DATASET_SIZE = 1\n",
        "LOOKBACK = 10"
      ],
      "metadata": {
        "id": "HAF5jK78oRoG"
      },
      "execution_count": 92,
      "outputs": []
    },
    {
      "cell_type": "code",
      "source": [
        "timeseries_df = pd.read_csv(input_dataset_path, sep='\\t', index_col=0, header=None).astype(np.float32).sample(DATASET_SIZE)\n",
        "TIME_SERIES_ID = timeseries_df.index.tolist()"
      ],
      "metadata": {
        "id": "jARNmYaJoUd-"
      },
      "execution_count": 93,
      "outputs": []
    },
    {
      "cell_type": "code",
      "source": [
        "def normalize(X, _max, _min):\n",
        "  return (X - _max)/(_min-_max) \n",
        "\n",
        "def reverse_normalize(X, _max, _min):\n",
        "  return X*(_min-_max) + _max \n",
        "\n",
        "def preprocess_timeseries(_timeseries, window=10, normalized=False, _max = None, _min = None):\n",
        "  if not normalized:\n",
        "    if _max is None:\n",
        "      _max = _timeseries.min()\n",
        "    if _min is None:\n",
        "      _min = _timeseries.max()\n",
        "\n",
        "    timeseries = normalize(_timeseries, _max, _min)\n",
        "  else:\n",
        "    timeseries = _timeseries\n",
        "  \n",
        "  X = None\n",
        "  for i in range(window, len(timeseries)):\n",
        "    X_i = np.asarray(timeseries[i-window:i]).reshape((1, len(timeseries[i-window:i]), 1))\n",
        "    X = np.concatenate((X, X_i)) if X is not None else X_i\n",
        "    \n",
        "  return X, _max, _min"
      ],
      "metadata": {
        "id": "mAptNRCWoXLI"
      },
      "execution_count": 94,
      "outputs": []
    },
    {
      "cell_type": "code",
      "source": [
        "window_length = 10\n",
        "X_all, _max, _min = preprocess_timeseries(timeseries_df.to_numpy()[0], window_length)\n",
        "print(X_all.shape)\n",
        "X_train, X_test = train_test_split(X_all, test_size=0.33)"
      ],
      "metadata": {
        "colab": {
          "base_uri": "https://localhost:8080/"
        },
        "id": "j9xbm3R1pDWP",
        "outputId": "a1cabc74-6fc7-450a-87c4-9c8031820c67"
      },
      "execution_count": 95,
      "outputs": [
        {
          "output_type": "stream",
          "name": "stdout",
          "text": [
            "(720, 10, 1)\n"
          ]
        }
      ]
    },
    {
      "cell_type": "code",
      "source": [
        "class TimeSeriesComplexityReducer():\n",
        "  n_conv_filt_default = 10\n",
        "  def __init__(self, window_size, conv_layers_setting=[], latent_dim=3, batch_size=64, pool_size=2, verbose=False):\n",
        "    self.batch_size = batch_size \n",
        "    self.verbose=verbose\n",
        "    \n",
        "    input_w = layers.Input(shape=(window_size,1))\n",
        "    input_dim = window_size\n",
        "    x = input_w\n",
        "    for conv_settings in conv_layers_setting:\n",
        "      filters = self.n_conv_filt_default\n",
        "      if 'filters' in conv_settings:\n",
        "        filters = conv_settings['filters']\n",
        "      kernel_size = conv_settings['kernel_size']\n",
        "      x = layers.Conv1D(filters, kernel_size, padding=\"same\", activation=\"relu\")(x)\n",
        "      if ceil(input_dim/pool_size) > latent_dim:\n",
        "        input_dim = ceil(input_dim/pool_size)\n",
        "        x = layers.MaxPooling1D(pool_size, padding=\"same\")(x)\n",
        "\n",
        "    # final compression\n",
        "    compressor_filters = ceil(input_dim / latent_dim)\n",
        "    compressor_kernel_space = input_dim-latent_dim*compressor_filters + 1\n",
        "    if compressor_kernel_space > 0:\n",
        "      x = layers.Conv1D(1, compressor_kernel_space, activation=\"relu\")(x)\n",
        "      encoded = layers.MaxPooling1D(compressor_filters, padding=\"same\")(x)\n",
        "    elif compressor_kernel_space < 0:\n",
        "      compressor_kernel_space = input_dim-latent_dim+1\n",
        "      encoded = layers.Conv1D(1, input_dim-latent_dim+1, activation=\"relu\")(x)\n",
        "    else:\n",
        "      compressor_kernel_space = latent_dim\n",
        "      x = layers.Conv1D(1, compressor_kernel_space, activation=\"relu\", padding=\"same\")(x)\n",
        "      encoded = layers.MaxPooling1D(compressor_filters, padding=\"same\")(x)\n",
        "    \n",
        "    self.encoder = models.Model(input_w, encoded, name='encoder')\n",
        "    if self.verbose:\n",
        "      self.encoder.summary()    \n",
        "\n",
        "    # decoder model\n",
        "    output_dim = latent_dim \n",
        "\n",
        "    x = layers.Conv1D(1, compressor_kernel_space, activation='relu', padding=\"same\")(encoded)\n",
        "    if output_dim*pool_size <= window_size:\n",
        "        output_dim = output_dim*pool_size\n",
        "        x = layers.UpSampling1D(pool_size)(x)\n",
        "\n",
        "    for i, conv_settings in enumerate(conv_layers_setting[::-1]):\n",
        "      padding=\"same\"\n",
        "      filters = self.n_conv_filt_default\n",
        "      if 'filters' in conv_settings:\n",
        "        filters = conv_settings['filters']\n",
        "      kernel_size = conv_settings['kernel_size']\n",
        "      \n",
        "      if i == len(conv_layers_setting)-1:\n",
        "        # we must treat the final layer differently\n",
        "        if window_size % pool_size == 0:\n",
        "          kernel_size = int(output_dim - window_size//pool_size + 1)\n",
        "          output_dim = window_size//pool_size\n",
        "          padding=\"valid\"\n",
        "\n",
        "      x = layers.Conv1D(filters, kernel_size, activation=\"relu\", padding=padding)(x)\n",
        "      \n",
        "      if output_dim*pool_size <= window_size:\n",
        "        output_dim = output_dim*pool_size\n",
        "        x = layers.UpSampling1D(pool_size)(x)\n",
        "\n",
        "    decoded = layers.Conv1D(1, latent_dim, activation=\"sigmoid\", padding=\"same\")(x)\n",
        "\n",
        "    self.autoencoder = models.Model(input_w, decoded, name=\"autoencoder\")\n",
        "    self.autoencoder.summary()\n",
        "    self.autoencoder.compile(optimizer='adam', loss='binary_crossentropy')\n",
        "\n",
        "\n",
        "  def fit(self, X, y, epochs=50):\n",
        "    self.history = self.autoencoder.fit(X, y,\n",
        "                epochs=epochs,\n",
        "                batch_size=self.batch_size,\n",
        "                shuffle=True,\n",
        "                validation_split=0.3, \n",
        "                verbose=self.verbose)\n",
        "    return self.history\n",
        "  def predict(self, X):\n",
        "    return self.autoencoder.predict(X)"
      ],
      "metadata": {
        "id": "NuVmfa77O56r"
      },
      "execution_count": 96,
      "outputs": []
    },
    {
      "cell_type": "code",
      "source": [
        "autoencoder = TimeSeriesComplexityReducer(10, [{'filters':16, 'kernel_size':5}, {'filters':16, 'kernel_size':5}], latent_dim=5, verbose=True)"
      ],
      "metadata": {
        "colab": {
          "base_uri": "https://localhost:8080/"
        },
        "id": "-Coq-aTnYR7S",
        "outputId": "ab365bce-acb1-4ac3-b5e6-1a66a577bbcf"
      },
      "execution_count": 103,
      "outputs": [
        {
          "output_type": "stream",
          "name": "stdout",
          "text": [
            "Model: \"encoder\"\n",
            "_________________________________________________________________\n",
            " Layer (type)                Output Shape              Param #   \n",
            "=================================================================\n",
            " input_18 (InputLayer)       [(None, 10, 1)]           0         \n",
            "                                                                 \n",
            " conv1d_112 (Conv1D)         (None, 10, 16)            96        \n",
            "                                                                 \n",
            " conv1d_113 (Conv1D)         (None, 10, 16)            1296      \n",
            "                                                                 \n",
            " conv1d_114 (Conv1D)         (None, 10, 1)             17        \n",
            "                                                                 \n",
            " max_pooling1d_29 (MaxPoolin  (None, 5, 1)             0         \n",
            " g1D)                                                            \n",
            "                                                                 \n",
            "=================================================================\n",
            "Total params: 1,409\n",
            "Trainable params: 1,409\n",
            "Non-trainable params: 0\n",
            "_________________________________________________________________\n",
            "Model: \"autoencoder\"\n",
            "_________________________________________________________________\n",
            " Layer (type)                Output Shape              Param #   \n",
            "=================================================================\n",
            " input_18 (InputLayer)       [(None, 10, 1)]           0         \n",
            "                                                                 \n",
            " conv1d_112 (Conv1D)         (None, 10, 16)            96        \n",
            "                                                                 \n",
            " conv1d_113 (Conv1D)         (None, 10, 16)            1296      \n",
            "                                                                 \n",
            " conv1d_114 (Conv1D)         (None, 10, 1)             17        \n",
            "                                                                 \n",
            " max_pooling1d_29 (MaxPoolin  (None, 5, 1)             0         \n",
            " g1D)                                                            \n",
            "                                                                 \n",
            " conv1d_115 (Conv1D)         (None, 5, 1)              2         \n",
            "                                                                 \n",
            " up_sampling1d_33 (UpSamplin  (None, 10, 1)            0         \n",
            " g1D)                                                            \n",
            "                                                                 \n",
            " conv1d_116 (Conv1D)         (None, 10, 16)            96        \n",
            "                                                                 \n",
            " conv1d_117 (Conv1D)         (None, 5, 16)             1552      \n",
            "                                                                 \n",
            " up_sampling1d_34 (UpSamplin  (None, 10, 16)           0         \n",
            " g1D)                                                            \n",
            "                                                                 \n",
            " conv1d_118 (Conv1D)         (None, 10, 1)             81        \n",
            "                                                                 \n",
            "=================================================================\n",
            "Total params: 3,140\n",
            "Trainable params: 3,140\n",
            "Non-trainable params: 0\n",
            "_________________________________________________________________\n"
          ]
        }
      ]
    },
    {
      "cell_type": "code",
      "source": [
        "autoencoder.fit(X_train, X_train, epochs=50)"
      ],
      "metadata": {
        "colab": {
          "base_uri": "https://localhost:8080/"
        },
        "id": "3Avz7i8QiJ6c",
        "outputId": "aacee7a0-c83c-4bc5-f382-fb36672f56ee"
      },
      "execution_count": 104,
      "outputs": [
        {
          "output_type": "stream",
          "name": "stdout",
          "text": [
            "Epoch 1/50\n",
            "6/6 [==============================] - 1s 59ms/step - loss: 0.6867 - val_loss: 0.6740\n",
            "Epoch 2/50\n",
            "6/6 [==============================] - 0s 11ms/step - loss: 0.6663 - val_loss: 0.6457\n",
            "Epoch 3/50\n",
            "6/6 [==============================] - 0s 11ms/step - loss: 0.6342 - val_loss: 0.6057\n",
            "Epoch 4/50\n",
            "6/6 [==============================] - 0s 13ms/step - loss: 0.5883 - val_loss: 0.5514\n",
            "Epoch 5/50\n",
            "6/6 [==============================] - 0s 12ms/step - loss: 0.5289 - val_loss: 0.4917\n",
            "Epoch 6/50\n",
            "6/6 [==============================] - 0s 12ms/step - loss: 0.4721 - val_loss: 0.4500\n",
            "Epoch 7/50\n",
            "6/6 [==============================] - 0s 15ms/step - loss: 0.4433 - val_loss: 0.4359\n",
            "Epoch 8/50\n",
            "6/6 [==============================] - 0s 14ms/step - loss: 0.4347 - val_loss: 0.4300\n",
            "Epoch 9/50\n",
            "6/6 [==============================] - 0s 13ms/step - loss: 0.4303 - val_loss: 0.4266\n",
            "Epoch 10/50\n",
            "6/6 [==============================] - 0s 13ms/step - loss: 0.4255 - val_loss: 0.4216\n",
            "Epoch 11/50\n",
            "6/6 [==============================] - 0s 22ms/step - loss: 0.4202 - val_loss: 0.4169\n",
            "Epoch 12/50\n",
            "6/6 [==============================] - 0s 13ms/step - loss: 0.4145 - val_loss: 0.4129\n",
            "Epoch 13/50\n",
            "6/6 [==============================] - 0s 12ms/step - loss: 0.4098 - val_loss: 0.4093\n",
            "Epoch 14/50\n",
            "6/6 [==============================] - 0s 12ms/step - loss: 0.4056 - val_loss: 0.4073\n",
            "Epoch 15/50\n",
            "6/6 [==============================] - 0s 19ms/step - loss: 0.4031 - val_loss: 0.4056\n",
            "Epoch 16/50\n",
            "6/6 [==============================] - 0s 16ms/step - loss: 0.4013 - val_loss: 0.4047\n",
            "Epoch 17/50\n",
            "6/6 [==============================] - 0s 12ms/step - loss: 0.4001 - val_loss: 0.4039\n",
            "Epoch 18/50\n",
            "6/6 [==============================] - 0s 17ms/step - loss: 0.3992 - val_loss: 0.4032\n",
            "Epoch 19/50\n",
            "6/6 [==============================] - 0s 15ms/step - loss: 0.3983 - val_loss: 0.4024\n",
            "Epoch 20/50\n",
            "6/6 [==============================] - 0s 12ms/step - loss: 0.3974 - val_loss: 0.4017\n",
            "Epoch 21/50\n",
            "6/6 [==============================] - 0s 18ms/step - loss: 0.3963 - val_loss: 0.4011\n",
            "Epoch 22/50\n",
            "6/6 [==============================] - 0s 15ms/step - loss: 0.3955 - val_loss: 0.4008\n",
            "Epoch 23/50\n",
            "6/6 [==============================] - 0s 13ms/step - loss: 0.3948 - val_loss: 0.4004\n",
            "Epoch 24/50\n",
            "6/6 [==============================] - 0s 14ms/step - loss: 0.3940 - val_loss: 0.4001\n",
            "Epoch 25/50\n",
            "6/6 [==============================] - 0s 12ms/step - loss: 0.3934 - val_loss: 0.3992\n",
            "Epoch 26/50\n",
            "6/6 [==============================] - 0s 15ms/step - loss: 0.3929 - val_loss: 0.3991\n",
            "Epoch 27/50\n",
            "6/6 [==============================] - 0s 15ms/step - loss: 0.3920 - val_loss: 0.3989\n",
            "Epoch 28/50\n",
            "6/6 [==============================] - 0s 14ms/step - loss: 0.3911 - val_loss: 0.3983\n",
            "Epoch 29/50\n",
            "6/6 [==============================] - 0s 12ms/step - loss: 0.3905 - val_loss: 0.3979\n",
            "Epoch 30/50\n",
            "6/6 [==============================] - 0s 12ms/step - loss: 0.3900 - val_loss: 0.3980\n",
            "Epoch 31/50\n",
            "6/6 [==============================] - 0s 10ms/step - loss: 0.3896 - val_loss: 0.3975\n",
            "Epoch 32/50\n",
            "6/6 [==============================] - 0s 10ms/step - loss: 0.3891 - val_loss: 0.3977\n",
            "Epoch 33/50\n",
            "6/6 [==============================] - 0s 12ms/step - loss: 0.3888 - val_loss: 0.3970\n",
            "Epoch 34/50\n",
            "6/6 [==============================] - 0s 14ms/step - loss: 0.3883 - val_loss: 0.3970\n",
            "Epoch 35/50\n",
            "6/6 [==============================] - 0s 10ms/step - loss: 0.3878 - val_loss: 0.3966\n",
            "Epoch 36/50\n",
            "6/6 [==============================] - 0s 10ms/step - loss: 0.3874 - val_loss: 0.3965\n",
            "Epoch 37/50\n",
            "6/6 [==============================] - 0s 15ms/step - loss: 0.3871 - val_loss: 0.3968\n",
            "Epoch 38/50\n",
            "6/6 [==============================] - 0s 11ms/step - loss: 0.3868 - val_loss: 0.3962\n",
            "Epoch 39/50\n",
            "6/6 [==============================] - 0s 11ms/step - loss: 0.3865 - val_loss: 0.3964\n",
            "Epoch 40/50\n",
            "6/6 [==============================] - 0s 11ms/step - loss: 0.3864 - val_loss: 0.3959\n",
            "Epoch 41/50\n",
            "6/6 [==============================] - 0s 16ms/step - loss: 0.3860 - val_loss: 0.3958\n",
            "Epoch 42/50\n",
            "6/6 [==============================] - 0s 14ms/step - loss: 0.3857 - val_loss: 0.3959\n",
            "Epoch 43/50\n",
            "6/6 [==============================] - 0s 14ms/step - loss: 0.3855 - val_loss: 0.3955\n",
            "Epoch 44/50\n",
            "6/6 [==============================] - 0s 10ms/step - loss: 0.3853 - val_loss: 0.3953\n",
            "Epoch 45/50\n",
            "6/6 [==============================] - 0s 11ms/step - loss: 0.3852 - val_loss: 0.3955\n",
            "Epoch 46/50\n",
            "6/6 [==============================] - 0s 10ms/step - loss: 0.3851 - val_loss: 0.3952\n",
            "Epoch 47/50\n",
            "6/6 [==============================] - 0s 11ms/step - loss: 0.3848 - val_loss: 0.3951\n",
            "Epoch 48/50\n",
            "6/6 [==============================] - 0s 11ms/step - loss: 0.3847 - val_loss: 0.3951\n",
            "Epoch 49/50\n",
            "6/6 [==============================] - 0s 12ms/step - loss: 0.3846 - val_loss: 0.3954\n",
            "Epoch 50/50\n",
            "6/6 [==============================] - 0s 12ms/step - loss: 0.3845 - val_loss: 0.3947\n"
          ]
        },
        {
          "output_type": "execute_result",
          "data": {
            "text/plain": [
              "<keras.callbacks.History at 0x7f0c1b7a0610>"
            ]
          },
          "metadata": {},
          "execution_count": 104
        }
      ]
    },
    {
      "cell_type": "code",
      "source": [
        "def plot_examples(stock_input, stock_decoded):\n",
        "    n = 10  \n",
        "    plt.figure(figsize=(20, 4))\n",
        "    for i, idx in enumerate(list(np.arange(0, test_samples, 200))):\n",
        "        # display original\n",
        "        ax = plt.subplot(2, n, i + 1)\n",
        "        if i == 0:\n",
        "            ax.set_ylabel(\"Input\", fontweight=600)\n",
        "        else:\n",
        "            ax.get_yaxis().set_visible(False)\n",
        "        plt.plot(stock_input[idx])\n",
        "        ax.get_xaxis().set_visible(False)\n",
        "        \n",
        "\n",
        "        # display reconstruction\n",
        "        ax = plt.subplot(2, n, i + 1 + n)\n",
        "        if i == 0:\n",
        "            ax.set_ylabel(\"Output\", fontweight=600)\n",
        "        else:\n",
        "            ax.get_yaxis().set_visible(False)\n",
        "        plt.plot(stock_decoded[idx])\n",
        "        ax.get_xaxis().set_visible(False)"
      ],
      "metadata": {
        "id": "TOaFYVA9ptRb"
      },
      "execution_count": 105,
      "outputs": []
    },
    {
      "cell_type": "code",
      "source": [
        "test_samples = 100\n",
        "\n",
        "plot_examples(reverse_normalize(X_test, _max, _min), reverse_normalize(autoencoder.predict(X_test), _max, _min))"
      ],
      "metadata": {
        "colab": {
          "base_uri": "https://localhost:8080/",
          "height": 248
        },
        "id": "MfMbWQbYseyI",
        "outputId": "f616bf0f-7a7f-4631-b389-ef2b3c34093b"
      },
      "execution_count": 106,
      "outputs": [
        {
          "output_type": "display_data",
          "data": {
            "image/png": "[encoded data removed]",
            "text/plain": [
              "<Figure size 1440x288 with 2 Axes>"
            ]
          },
          "metadata": {}
        }
      ]
    },
    {
      "cell_type": "code",
      "source": [
        "autoencoder.predict(X_test).shape"
      ],
      "metadata": {
        "id": "Pvk7ZIJ0yHmR",
        "colab": {
          "base_uri": "https://localhost:8080/"
        },
        "outputId": "2a9fe2ef-3fec-41c7-d42a-5e2cce1aa7a2"
      },
      "execution_count": 101,
      "outputs": [
        {
          "output_type": "execute_result",
          "data": {
            "text/plain": [
              "(238, 10, 1)"
            ]
          },
          "metadata": {},
          "execution_count": 101
        }
      ]
    },
    {
      "cell_type": "code",
      "source": [
        "X_test.shape"
      ],
      "metadata": {
        "colab": {
          "base_uri": "https://localhost:8080/"
        },
        "id": "_NlECVIcv8nO",
        "outputId": "0799b252-3e74-4617-e623-709c51e761a0"
      },
      "execution_count": 102,
      "outputs": [
        {
          "output_type": "execute_result",
          "data": {
            "text/plain": [
              "(238, 10, 1)"
            ]
          },
          "metadata": {},
          "execution_count": 102
        }
      ]
    },
    {
      "cell_type": "code",
      "source": [
        ""
      ],
      "metadata": {
        "id": "UwxP0bX4v-x5"
      },
      "execution_count": 102,
      "outputs": []
    }
  ]
}