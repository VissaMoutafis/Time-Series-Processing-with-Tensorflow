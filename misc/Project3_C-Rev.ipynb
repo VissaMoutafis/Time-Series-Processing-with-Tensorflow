{
  "nbformat": 4,
  "nbformat_minor": 0,
  "metadata": {
    "colab": {
      "name": "Project3_C.ipynb",
      "provenance": [],
      "collapsed_sections": []
    },
    "kernelspec": {
      "name": "python3",
      "display_name": "Python 3"
    },
    "language_info": {
      "name": "python"
    }
  },
  "cells": [
    {
      "cell_type": "code",
      "source": [
        "import numpy as np \n",
        "import pandas as pd\n",
        "import matplotlib.pyplot as plt\n",
        "from matplotlib.pyplot import figure\n",
        "\n",
        "from sklearn.model_selection import train_test_split \n",
        "from sklearn.preprocessing import MinMaxScaler\n",
        "\n",
        "import tensorflow as tf\n",
        "from tensorflow.keras import layers, models\n",
        "from keras.callbacks import EarlyStopping\n",
        "from keras.layers.merge import concatenate\n",
        "\n",
        "from math import ceil\n",
        "\n",
        "import seaborn as sns\n",
        "sns.set()"
      ],
      "metadata": {
        "id": "1wov8U2Xn-Ma"
      },
      "execution_count": 1,
      "outputs": []
    },
    {
      "cell_type": "code",
      "source": [
        "from google.colab import drive\n",
        "drive.mount('/content/drive')"
      ],
      "metadata": {
        "colab": {
          "base_uri": "https://localhost:8080/"
        },
        "id": "6wOZefHUoN6N",
        "outputId": "862275d9-aa2c-4f38-c18e-478d15d94834"
      },
      "execution_count": 2,
      "outputs": [
        {
          "output_type": "stream",
          "name": "stdout",
          "text": [
            "Mounted at /content/drive\n"
          ]
        }
      ]
    },
    {
      "cell_type": "code",
      "source": [
        "input_dataset_path = 'drive/MyDrive/Collab-Datasets/nasd_input.csv'\n",
        "query_dataset_path = 'drive/MyDrive/Collab-Datasets/nasd_query.csv'\n",
        "DATASET_SIZE = 1\n",
        "LOOKBACK = 15"
      ],
      "metadata": {
        "id": "HAF5jK78oRoG"
      },
      "execution_count": 119,
      "outputs": []
    },
    {
      "cell_type": "code",
      "source": [
        "timeseries_df = pd.read_csv(input_dataset_path, sep='\\t', index_col=0, header=None).astype(np.float32).sample(DATASET_SIZE)\n",
        "TIME_SERIES_ID = timeseries_df.index.tolist()"
      ],
      "metadata": {
        "id": "jARNmYaJoUd-"
      },
      "execution_count": 120,
      "outputs": []
    },
    {
      "cell_type": "code",
      "source": [
        "def normalize(X, _max, _min):\n",
        "  return (X - _min)/(_max-_min) \n",
        "\n",
        "def reverse_normalize(X, _max, _min):\n",
        "  return X*(_max-_min) + _min \n",
        "\n",
        "def preprocess_timeseries(_timeseries, window=10, normalized=False, _max = None, _min = None):\n",
        "  if not normalized:\n",
        "    if _max is None:\n",
        "      _max = _timeseries.min()\n",
        "    if _min is None:\n",
        "      _min = _timeseries.max()\n",
        "\n",
        "    timeseries = normalize(_timeseries, _max, _min)\n",
        "  else:\n",
        "    timeseries = _timeseries\n",
        "  \n",
        "  X = None\n",
        "  for i in range(window, len(timeseries)):\n",
        "    X_i = np.asarray(timeseries[i-window:i]).reshape((1, len(timeseries[i-window:i]), 1))\n",
        "    X = np.concatenate((X, X_i)) if X is not None else X_i\n",
        "    \n",
        "  return X, _max, _min"
      ],
      "metadata": {
        "id": "mAptNRCWoXLI"
      },
      "execution_count": 121,
      "outputs": []
    },
    {
      "cell_type": "code",
      "source": [
        "window_length = 15\n",
        "X_all, _max, _min = preprocess_timeseries(timeseries_df.to_numpy()[0], window_length)\n",
        "print(X_all.shape)\n",
        "X_train, X_test = train_test_split(X_all, test_size=0.33)"
      ],
      "metadata": {
        "colab": {
          "base_uri": "https://localhost:8080/"
        },
        "id": "j9xbm3R1pDWP",
        "outputId": "d09cb5c9-86f0-425b-dab6-55eafb221447"
      },
      "execution_count": 123,
      "outputs": [
        {
          "output_type": "stream",
          "name": "stdout",
          "text": [
            "(715, 15, 1)\n"
          ]
        }
      ]
    },
    {
      "cell_type": "code",
      "source": [
        "class TimeSeriesComplexityReducer():\n",
        "  n_conv_filt_default = 10\n",
        "  def __init__(self, window_size, conv_layers_setting=[], latent_dim=3, batch_size=64, pool_size=2, verbose=False):\n",
        "    self.batch_size = batch_size \n",
        "    self.verbose=verbose\n",
        "    \n",
        "    # init input layer\n",
        "    input_w = layers.Input(shape=(window_size,1))\n",
        "    input_dim = window_size\n",
        "    x = input_w\n",
        "\n",
        "    # add the convolution layers\n",
        "    for conv_settings in conv_layers_setting:\n",
        "      # set up convolution filters and kernel dimensions \n",
        "      filters = self.n_conv_filt_default\n",
        "      if 'filters' in conv_settings:\n",
        "        filters = conv_settings['filters']\n",
        "      kernel_size = conv_settings['kernel_size']\n",
        "\n",
        "      # add the layer into the encoder\n",
        "      x = layers.Conv1D(filters, kernel_size, padding=\"same\", activation=\"relu\")(x)\n",
        "      \n",
        "      # downsample if you can\n",
        "      if ceil(input_dim/pool_size) > latent_dim:\n",
        "        input_dim = ceil(input_dim/pool_size)\n",
        "        x = layers.MaxPooling1D(pool_size, padding=\"same\")(x)\n",
        "\n",
        "    # final compression\n",
        "    x = layers.Flatten()(x)\n",
        "    x = layers.Dense(latent_dim, activation='relu')(x)\n",
        "    encoded = layers.Reshape((latent_dim, 1))(x)\n",
        "    \n",
        "    self.encoder = models.Model(input_w, encoded, name='encoder')\n",
        "    if self.verbose:\n",
        "      self.encoder.summary()    \n",
        "\n",
        "\n",
        "    # decoder model\n",
        "    output_dim = latent_dim \n",
        "\n",
        "    x = layers.Conv1DTranspose(1, latent_dim, activation='relu', padding=\"same\")(encoded)\n",
        "    \n",
        "    if output_dim*pool_size <= window_size:\n",
        "        output_dim = output_dim*pool_size\n",
        "        x = layers.UpSampling1D(pool_size)(x)\n",
        "\n",
        "    for i, conv_settings in enumerate(conv_layers_setting[::-1]):\n",
        "      padding=\"same\"\n",
        "      filters = self.n_conv_filt_default\n",
        "      if 'filters' in conv_settings:\n",
        "        filters = conv_settings['filters']\n",
        "      kernel_size = conv_settings['kernel_size']\n",
        "\n",
        "      x = layers.Conv1DTranspose(filters, kernel_size, activation=\"relu\", padding=padding)(x)\n",
        "      \n",
        "      if output_dim*pool_size <= window_size:\n",
        "        output_dim = output_dim*pool_size\n",
        "        x = layers.UpSampling1D(pool_size)(x)\n",
        "\n",
        "    # decoded = layers.Conv1DTranspose(1, window_size-output_dim+1, activation=\"sigmoid\")(x)\n",
        "    x = layers.Flatten()(x)\n",
        "    x = layers.Dense(window_size, activation='sigmoid')(x)\n",
        "    decoded = layers.Reshape((window_size, 1))(x)\n",
        "\n",
        "    self.autoencoder = models.Model(input_w, decoded, name=\"autoencoder\")\n",
        "    self.autoencoder.summary()\n",
        "    self.autoencoder.compile(optimizer='adam', loss='binary_crossentropy')\n",
        "\n",
        "\n",
        "  def fit(self, X, y, epochs=50):\n",
        "    self.history = self.autoencoder.fit(X, y,\n",
        "                epochs=epochs,\n",
        "                batch_size=self.batch_size,\n",
        "                shuffle=True,\n",
        "                validation_split=0.3, \n",
        "                verbose=self.verbose)\n",
        "    return self.history\n",
        "  def predict(self, X):\n",
        "    return self.autoencoder.predict(X)"
      ],
      "metadata": {
        "id": "NuVmfa77O56r"
      },
      "execution_count": 177,
      "outputs": []
    },
    {
      "cell_type": "code",
      "source": [
        "autoencoder = TimeSeriesComplexityReducer(window_length, [{'filters':20, 'kernel_size':5}, {'filters':10, 'kernel_size':5}, {'filters':5, 'kernel_size':3}], latent_dim=10, verbose=True, pool_size=2)"
      ],
      "metadata": {
        "colab": {
          "base_uri": "https://localhost:8080/"
        },
        "id": "-Coq-aTnYR7S",
        "outputId": "28e15306-7229-4a86-dcf7-1ef163ccbcac"
      },
      "execution_count": 194,
      "outputs": [
        {
          "output_type": "stream",
          "name": "stdout",
          "text": [
            "Model: \"encoder\"\n",
            "_________________________________________________________________\n",
            " Layer (type)                Output Shape              Param #   \n",
            "=================================================================\n",
            " input_83 (InputLayer)       [(None, 15, 1)]           0         \n",
            "                                                                 \n",
            " conv1d_391 (Conv1D)         (None, 15, 20)            120       \n",
            "                                                                 \n",
            " conv1d_392 (Conv1D)         (None, 15, 10)            1010      \n",
            "                                                                 \n",
            " conv1d_393 (Conv1D)         (None, 15, 5)             155       \n",
            "                                                                 \n",
            " flatten_20 (Flatten)        (None, 75)                0         \n",
            "                                                                 \n",
            " dense_28 (Dense)            (None, 10)                760       \n",
            "                                                                 \n",
            " reshape_20 (Reshape)        (None, 10, 1)             0         \n",
            "                                                                 \n",
            "=================================================================\n",
            "Total params: 2,045\n",
            "Trainable params: 2,045\n",
            "Non-trainable params: 0\n",
            "_________________________________________________________________\n",
            "Model: \"autoencoder\"\n",
            "_________________________________________________________________\n",
            " Layer (type)                Output Shape              Param #   \n",
            "=================================================================\n",
            " input_83 (InputLayer)       [(None, 15, 1)]           0         \n",
            "                                                                 \n",
            " conv1d_391 (Conv1D)         (None, 15, 20)            120       \n",
            "                                                                 \n",
            " conv1d_392 (Conv1D)         (None, 15, 10)            1010      \n",
            "                                                                 \n",
            " conv1d_393 (Conv1D)         (None, 15, 5)             155       \n",
            "                                                                 \n",
            " flatten_20 (Flatten)        (None, 75)                0         \n",
            "                                                                 \n",
            " dense_28 (Dense)            (None, 10)                760       \n",
            "                                                                 \n",
            " reshape_20 (Reshape)        (None, 10, 1)             0         \n",
            "                                                                 \n",
            " conv1d_transpose_94 (Conv1D  (None, 10, 1)            11        \n",
            " Transpose)                                                      \n",
            "                                                                 \n",
            " conv1d_transpose_95 (Conv1D  (None, 10, 5)            20        \n",
            " Transpose)                                                      \n",
            "                                                                 \n",
            " conv1d_transpose_96 (Conv1D  (None, 10, 10)           260       \n",
            " Transpose)                                                      \n",
            "                                                                 \n",
            " conv1d_transpose_97 (Conv1D  (None, 10, 20)           1020      \n",
            " Transpose)                                                      \n",
            "                                                                 \n",
            " flatten_21 (Flatten)        (None, 200)               0         \n",
            "                                                                 \n",
            " dense_29 (Dense)            (None, 15)                3015      \n",
            "                                                                 \n",
            " reshape_21 (Reshape)        (None, 15, 1)             0         \n",
            "                                                                 \n",
            "=================================================================\n",
            "Total params: 6,371\n",
            "Trainable params: 6,371\n",
            "Non-trainable params: 0\n",
            "_________________________________________________________________\n"
          ]
        }
      ]
    },
    {
      "cell_type": "code",
      "source": [
        "autoencoder.fit(X_train, X_train, epochs=100)"
      ],
      "metadata": {
        "colab": {
          "base_uri": "https://localhost:8080/"
        },
        "id": "3Avz7i8QiJ6c",
        "outputId": "ff350a48-3bb2-4e2f-8038-a896dfae00ad"
      },
      "execution_count": 195,
      "outputs": [
        {
          "output_type": "stream",
          "name": "stdout",
          "text": [
            "Epoch 1/100\n",
            "6/6 [==============================] - 1s 71ms/step - loss: 0.6910 - val_loss: 0.6867\n",
            "Epoch 2/100\n",
            "6/6 [==============================] - 0s 12ms/step - loss: 0.6821 - val_loss: 0.6727\n",
            "Epoch 3/100\n",
            "6/6 [==============================] - 0s 15ms/step - loss: 0.6632 - val_loss: 0.6455\n",
            "Epoch 4/100\n",
            "6/6 [==============================] - 0s 14ms/step - loss: 0.6292 - val_loss: 0.6037\n",
            "Epoch 5/100\n",
            "6/6 [==============================] - 0s 15ms/step - loss: 0.5862 - val_loss: 0.5837\n",
            "Epoch 6/100\n",
            "6/6 [==============================] - 0s 12ms/step - loss: 0.5850 - val_loss: 0.5863\n",
            "Epoch 7/100\n",
            "6/6 [==============================] - 0s 12ms/step - loss: 0.5763 - val_loss: 0.5771\n",
            "Epoch 8/100\n",
            "6/6 [==============================] - 0s 14ms/step - loss: 0.5739 - val_loss: 0.5782\n",
            "Epoch 9/100\n",
            "6/6 [==============================] - 0s 11ms/step - loss: 0.5732 - val_loss: 0.5748\n",
            "Epoch 10/100\n",
            "6/6 [==============================] - 0s 14ms/step - loss: 0.5715 - val_loss: 0.5740\n",
            "Epoch 11/100\n",
            "6/6 [==============================] - 0s 14ms/step - loss: 0.5704 - val_loss: 0.5716\n",
            "Epoch 12/100\n",
            "6/6 [==============================] - 0s 14ms/step - loss: 0.5688 - val_loss: 0.5698\n",
            "Epoch 13/100\n",
            "6/6 [==============================] - 0s 14ms/step - loss: 0.5673 - val_loss: 0.5677\n",
            "Epoch 14/100\n",
            "6/6 [==============================] - 0s 16ms/step - loss: 0.5661 - val_loss: 0.5656\n",
            "Epoch 15/100\n",
            "6/6 [==============================] - 0s 14ms/step - loss: 0.5647 - val_loss: 0.5635\n",
            "Epoch 16/100\n",
            "6/6 [==============================] - 0s 11ms/step - loss: 0.5633 - val_loss: 0.5613\n",
            "Epoch 17/100\n",
            "6/6 [==============================] - 0s 12ms/step - loss: 0.5617 - val_loss: 0.5588\n",
            "Epoch 18/100\n",
            "6/6 [==============================] - 0s 14ms/step - loss: 0.5604 - val_loss: 0.5562\n",
            "Epoch 19/100\n",
            "6/6 [==============================] - 0s 12ms/step - loss: 0.5583 - val_loss: 0.5541\n",
            "Epoch 20/100\n",
            "6/6 [==============================] - 0s 12ms/step - loss: 0.5560 - val_loss: 0.5497\n",
            "Epoch 21/100\n",
            "6/6 [==============================] - 0s 14ms/step - loss: 0.5530 - val_loss: 0.5460\n",
            "Epoch 22/100\n",
            "6/6 [==============================] - 0s 12ms/step - loss: 0.5498 - val_loss: 0.5425\n",
            "Epoch 23/100\n",
            "6/6 [==============================] - 0s 15ms/step - loss: 0.5470 - val_loss: 0.5394\n",
            "Epoch 24/100\n",
            "6/6 [==============================] - 0s 11ms/step - loss: 0.5446 - val_loss: 0.5368\n",
            "Epoch 25/100\n",
            "6/6 [==============================] - 0s 11ms/step - loss: 0.5424 - val_loss: 0.5350\n",
            "Epoch 26/100\n",
            "6/6 [==============================] - 0s 12ms/step - loss: 0.5411 - val_loss: 0.5339\n",
            "Epoch 27/100\n",
            "6/6 [==============================] - 0s 15ms/step - loss: 0.5404 - val_loss: 0.5334\n",
            "Epoch 28/100\n",
            "6/6 [==============================] - 0s 12ms/step - loss: 0.5400 - val_loss: 0.5332\n",
            "Epoch 29/100\n",
            "6/6 [==============================] - 0s 14ms/step - loss: 0.5398 - val_loss: 0.5325\n",
            "Epoch 30/100\n",
            "6/6 [==============================] - 0s 12ms/step - loss: 0.5395 - val_loss: 0.5323\n",
            "Epoch 31/100\n",
            "6/6 [==============================] - 0s 11ms/step - loss: 0.5394 - val_loss: 0.5322\n",
            "Epoch 32/100\n",
            "6/6 [==============================] - 0s 15ms/step - loss: 0.5392 - val_loss: 0.5319\n",
            "Epoch 33/100\n",
            "6/6 [==============================] - 0s 14ms/step - loss: 0.5391 - val_loss: 0.5317\n",
            "Epoch 34/100\n",
            "6/6 [==============================] - 0s 12ms/step - loss: 0.5390 - val_loss: 0.5315\n",
            "Epoch 35/100\n",
            "6/6 [==============================] - 0s 12ms/step - loss: 0.5388 - val_loss: 0.5313\n",
            "Epoch 36/100\n",
            "6/6 [==============================] - 0s 12ms/step - loss: 0.5387 - val_loss: 0.5311\n",
            "Epoch 37/100\n",
            "6/6 [==============================] - 0s 11ms/step - loss: 0.5385 - val_loss: 0.5308\n",
            "Epoch 38/100\n",
            "6/6 [==============================] - 0s 14ms/step - loss: 0.5384 - val_loss: 0.5304\n",
            "Epoch 39/100\n",
            "6/6 [==============================] - 0s 13ms/step - loss: 0.5382 - val_loss: 0.5300\n",
            "Epoch 40/100\n",
            "6/6 [==============================] - 0s 12ms/step - loss: 0.5380 - val_loss: 0.5295\n",
            "Epoch 41/100\n",
            "6/6 [==============================] - 0s 12ms/step - loss: 0.5377 - val_loss: 0.5290\n",
            "Epoch 42/100\n",
            "6/6 [==============================] - 0s 11ms/step - loss: 0.5375 - val_loss: 0.5285\n",
            "Epoch 43/100\n",
            "6/6 [==============================] - 0s 15ms/step - loss: 0.5373 - val_loss: 0.5281\n",
            "Epoch 44/100\n",
            "6/6 [==============================] - 0s 12ms/step - loss: 0.5371 - val_loss: 0.5272\n",
            "Epoch 45/100\n",
            "6/6 [==============================] - 0s 12ms/step - loss: 0.5366 - val_loss: 0.5265\n",
            "Epoch 46/100\n",
            "6/6 [==============================] - 0s 13ms/step - loss: 0.5363 - val_loss: 0.5256\n",
            "Epoch 47/100\n",
            "6/6 [==============================] - 0s 12ms/step - loss: 0.5359 - val_loss: 0.5249\n",
            "Epoch 48/100\n",
            "6/6 [==============================] - 0s 12ms/step - loss: 0.5357 - val_loss: 0.5243\n",
            "Epoch 49/100\n",
            "6/6 [==============================] - 0s 12ms/step - loss: 0.5355 - val_loss: 0.5237\n",
            "Epoch 50/100\n",
            "6/6 [==============================] - 0s 12ms/step - loss: 0.5353 - val_loss: 0.5229\n",
            "Epoch 51/100\n",
            "6/6 [==============================] - 0s 13ms/step - loss: 0.5351 - val_loss: 0.5226\n",
            "Epoch 52/100\n",
            "6/6 [==============================] - 0s 12ms/step - loss: 0.5350 - val_loss: 0.5223\n",
            "Epoch 53/100\n",
            "6/6 [==============================] - 0s 12ms/step - loss: 0.5349 - val_loss: 0.5218\n",
            "Epoch 54/100\n",
            "6/6 [==============================] - 0s 15ms/step - loss: 0.5347 - val_loss: 0.5215\n",
            "Epoch 55/100\n",
            "6/6 [==============================] - 0s 12ms/step - loss: 0.5345 - val_loss: 0.5213\n",
            "Epoch 56/100\n",
            "6/6 [==============================] - 0s 12ms/step - loss: 0.5343 - val_loss: 0.5209\n",
            "Epoch 57/100\n",
            "6/6 [==============================] - 0s 15ms/step - loss: 0.5341 - val_loss: 0.5208\n",
            "Epoch 58/100\n",
            "6/6 [==============================] - 0s 12ms/step - loss: 0.5341 - val_loss: 0.5203\n",
            "Epoch 59/100\n",
            "6/6 [==============================] - 0s 14ms/step - loss: 0.5340 - val_loss: 0.5203\n",
            "Epoch 60/100\n",
            "6/6 [==============================] - 0s 14ms/step - loss: 0.5338 - val_loss: 0.5199\n",
            "Epoch 61/100\n",
            "6/6 [==============================] - 0s 15ms/step - loss: 0.5337 - val_loss: 0.5196\n",
            "Epoch 62/100\n",
            "6/6 [==============================] - 0s 13ms/step - loss: 0.5335 - val_loss: 0.5194\n",
            "Epoch 63/100\n",
            "6/6 [==============================] - 0s 13ms/step - loss: 0.5334 - val_loss: 0.5192\n",
            "Epoch 64/100\n",
            "6/6 [==============================] - 0s 12ms/step - loss: 0.5333 - val_loss: 0.5189\n",
            "Epoch 65/100\n",
            "6/6 [==============================] - 0s 12ms/step - loss: 0.5334 - val_loss: 0.5190\n",
            "Epoch 66/100\n",
            "6/6 [==============================] - 0s 19ms/step - loss: 0.5333 - val_loss: 0.5188\n",
            "Epoch 67/100\n",
            "6/6 [==============================] - 0s 12ms/step - loss: 0.5332 - val_loss: 0.5190\n",
            "Epoch 68/100\n",
            "6/6 [==============================] - 0s 12ms/step - loss: 0.5333 - val_loss: 0.5187\n",
            "Epoch 69/100\n",
            "6/6 [==============================] - 0s 12ms/step - loss: 0.5331 - val_loss: 0.5183\n",
            "Epoch 70/100\n",
            "6/6 [==============================] - 0s 11ms/step - loss: 0.5329 - val_loss: 0.5181\n",
            "Epoch 71/100\n",
            "6/6 [==============================] - 0s 12ms/step - loss: 0.5328 - val_loss: 0.5181\n",
            "Epoch 72/100\n",
            "6/6 [==============================] - 0s 13ms/step - loss: 0.5328 - val_loss: 0.5180\n",
            "Epoch 73/100\n",
            "6/6 [==============================] - 0s 14ms/step - loss: 0.5327 - val_loss: 0.5181\n",
            "Epoch 74/100\n",
            "6/6 [==============================] - 0s 12ms/step - loss: 0.5327 - val_loss: 0.5180\n",
            "Epoch 75/100\n",
            "6/6 [==============================] - 0s 15ms/step - loss: 0.5327 - val_loss: 0.5179\n",
            "Epoch 76/100\n",
            "6/6 [==============================] - 0s 12ms/step - loss: 0.5327 - val_loss: 0.5178\n",
            "Epoch 77/100\n",
            "6/6 [==============================] - 0s 12ms/step - loss: 0.5326 - val_loss: 0.5179\n",
            "Epoch 78/100\n",
            "6/6 [==============================] - 0s 12ms/step - loss: 0.5326 - val_loss: 0.5178\n",
            "Epoch 79/100\n",
            "6/6 [==============================] - 0s 12ms/step - loss: 0.5326 - val_loss: 0.5178\n",
            "Epoch 80/100\n",
            "6/6 [==============================] - 0s 12ms/step - loss: 0.5326 - val_loss: 0.5178\n",
            "Epoch 81/100\n",
            "6/6 [==============================] - 0s 11ms/step - loss: 0.5326 - val_loss: 0.5178\n",
            "Epoch 82/100\n",
            "6/6 [==============================] - 0s 12ms/step - loss: 0.5325 - val_loss: 0.5177\n",
            "Epoch 83/100\n",
            "6/6 [==============================] - 0s 12ms/step - loss: 0.5325 - val_loss: 0.5177\n",
            "Epoch 84/100\n",
            "6/6 [==============================] - 0s 15ms/step - loss: 0.5325 - val_loss: 0.5177\n",
            "Epoch 85/100\n",
            "6/6 [==============================] - 0s 12ms/step - loss: 0.5325 - val_loss: 0.5177\n",
            "Epoch 86/100\n",
            "6/6 [==============================] - 0s 16ms/step - loss: 0.5325 - val_loss: 0.5177\n",
            "Epoch 87/100\n",
            "6/6 [==============================] - 0s 15ms/step - loss: 0.5325 - val_loss: 0.5178\n",
            "Epoch 88/100\n",
            "6/6 [==============================] - 0s 13ms/step - loss: 0.5325 - val_loss: 0.5176\n",
            "Epoch 89/100\n",
            "6/6 [==============================] - 0s 12ms/step - loss: 0.5324 - val_loss: 0.5177\n",
            "Epoch 90/100\n",
            "6/6 [==============================] - 0s 11ms/step - loss: 0.5324 - val_loss: 0.5177\n",
            "Epoch 91/100\n",
            "6/6 [==============================] - 0s 12ms/step - loss: 0.5324 - val_loss: 0.5179\n",
            "Epoch 92/100\n",
            "6/6 [==============================] - 0s 12ms/step - loss: 0.5325 - val_loss: 0.5178\n",
            "Epoch 93/100\n",
            "6/6 [==============================] - 0s 12ms/step - loss: 0.5324 - val_loss: 0.5179\n",
            "Epoch 94/100\n",
            "6/6 [==============================] - 0s 12ms/step - loss: 0.5324 - val_loss: 0.5179\n",
            "Epoch 95/100\n",
            "6/6 [==============================] - 0s 12ms/step - loss: 0.5323 - val_loss: 0.5178\n",
            "Epoch 96/100\n",
            "6/6 [==============================] - 0s 12ms/step - loss: 0.5323 - val_loss: 0.5178\n",
            "Epoch 97/100\n",
            "6/6 [==============================] - 0s 12ms/step - loss: 0.5323 - val_loss: 0.5177\n",
            "Epoch 98/100\n",
            "6/6 [==============================] - 0s 13ms/step - loss: 0.5323 - val_loss: 0.5176\n",
            "Epoch 99/100\n",
            "6/6 [==============================] - 0s 13ms/step - loss: 0.5323 - val_loss: 0.5177\n",
            "Epoch 100/100\n",
            "6/6 [==============================] - 0s 12ms/step - loss: 0.5323 - val_loss: 0.5176\n"
          ]
        },
        {
          "output_type": "execute_result",
          "data": {
            "text/plain": [
              "<keras.callbacks.History at 0x7f9ab87e35d0>"
            ]
          },
          "metadata": {},
          "execution_count": 195
        }
      ]
    },
    {
      "cell_type": "code",
      "source": [
        "def plot_examples(stock_input, stock_decoded):\n",
        "    n = 10  \n",
        "    plt.figure(figsize=(20, 4))\n",
        "    for i, idx in enumerate(list(np.arange(0, test_samples, 200))):\n",
        "        # display original\n",
        "        ax = plt.subplot(2, n, i + 1)\n",
        "        if i == 0:\n",
        "            ax.set_ylabel(\"Input\", fontweight=600)\n",
        "        else:\n",
        "            ax.get_yaxis().set_visible(False)\n",
        "        plt.plot(stock_input[idx])\n",
        "        ax.get_xaxis().set_visible(False)\n",
        "        \n",
        "\n",
        "        # display reconstruction\n",
        "        ax = plt.subplot(2, n, i + 1 + n)\n",
        "        if i == 0:\n",
        "            ax.set_ylabel(\"Output\", fontweight=600)\n",
        "        else:\n",
        "            ax.get_yaxis().set_visible(False)\n",
        "        plt.plot(stock_decoded[idx])\n",
        "        ax.get_xaxis().set_visible(False)"
      ],
      "metadata": {
        "id": "TOaFYVA9ptRb"
      },
      "execution_count": 196,
      "outputs": []
    },
    {
      "cell_type": "code",
      "source": [
        "test_samples = 50\n",
        "\n",
        "plot_examples(reverse_normalize(X_test, _max, _min), reverse_normalize(autoencoder.predict(X_test), _max, _min))"
      ],
      "metadata": {
        "colab": {
          "base_uri": "https://localhost:8080/",
          "height": 250
        },
        "id": "MfMbWQbYseyI",
        "outputId": "36cdd046-5fea-4031-950e-cf0fc736bbd8"
      },
      "execution_count": 197,
      "outputs": [
        {
          "output_type": "display_data",
          "data": {
            "image/png": "[encoded data removed]",
            "text/plain": [
              "<Figure size 1440x288 with 2 Axes>"
            ]
          },
          "metadata": {
            "needs_background": "light"
          }
        }
      ]
    },
    {
      "cell_type": "code",
      "source": [
        "autoencoder.predict(X_test).shape"
      ],
      "metadata": {
        "id": "Pvk7ZIJ0yHmR",
        "colab": {
          "base_uri": "https://localhost:8080/"
        },
        "outputId": "2a9fe2ef-3fec-41c7-d42a-5e2cce1aa7a2"
      },
      "execution_count": null,
      "outputs": [
        {
          "output_type": "execute_result",
          "data": {
            "text/plain": [
              "(238, 10, 1)"
            ]
          },
          "metadata": {},
          "execution_count": 101
        }
      ]
    },
    {
      "cell_type": "code",
      "source": [
        "X_test.shape"
      ],
      "metadata": {
        "colab": {
          "base_uri": "https://localhost:8080/"
        },
        "id": "_NlECVIcv8nO",
        "outputId": "0799b252-3e74-4617-e623-709c51e761a0"
      },
      "execution_count": null,
      "outputs": [
        {
          "output_type": "execute_result",
          "data": {
            "text/plain": [
              "(238, 10, 1)"
            ]
          },
          "metadata": {},
          "execution_count": 102
        }
      ]
    },
    {
      "cell_type": "code",
      "source": [
        ""
      ],
      "metadata": {
        "id": "UwxP0bX4v-x5"
      },
      "execution_count": null,
      "outputs": []
    }
  ]
}