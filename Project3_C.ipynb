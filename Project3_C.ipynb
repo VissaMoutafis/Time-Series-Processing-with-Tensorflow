{
  "nbformat": 4,
  "nbformat_minor": 0,
  "metadata": {
    "colab": {
      "name": "Untitled2.ipynb",
      "provenance": [],
      "collapsed_sections": []
    },
    "kernelspec": {
      "name": "python3",
      "display_name": "Python 3"
    },
    "language_info": {
      "name": "python"
    }
  },
  "cells": [
    {
      "cell_type": "code",
      "source": [
        "import numpy as np \n",
        "import pandas as pd\n",
        "import matplotlib.pyplot as plt\n",
        "from matplotlib.pyplot import figure\n",
        "\n",
        "from sklearn.model_selection import train_test_split \n",
        "from sklearn.preprocessing import MinMaxScaler\n",
        "\n",
        "import tensorflow as tf\n",
        "from tensorflow.keras import layers, models\n",
        "from keras.callbacks import EarlyStopping\n",
        "\n",
        "import seaborn as sns\n",
        "sns.set()"
      ],
      "metadata": {
        "id": "1wov8U2Xn-Ma"
      },
      "execution_count": 186,
      "outputs": []
    },
    {
      "cell_type": "code",
      "source": [
        "from google.colab import drive\n",
        "drive.mount('/content/drive')"
      ],
      "metadata": {
        "colab": {
          "base_uri": "https://localhost:8080/"
        },
        "id": "6wOZefHUoN6N",
        "outputId": "6f98c622-4017-4633-91cc-1d5d8515592a"
      },
      "execution_count": 187,
      "outputs": [
        {
          "output_type": "stream",
          "name": "stdout",
          "text": [
            "Drive already mounted at /content/drive; to attempt to forcibly remount, call drive.mount(\"/content/drive\", force_remount=True).\n"
          ]
        }
      ]
    },
    {
      "cell_type": "code",
      "source": [
        "input_dataset_path = 'drive/MyDrive/Collab-Datasets/nasd_input.csv'\n",
        "query_dataset_path = 'drive/MyDrive/Collab-Datasets/nasd_query.csv'\n",
        "DATASET_SIZE = 1\n",
        "LOOKBACK = 20"
      ],
      "metadata": {
        "id": "HAF5jK78oRoG"
      },
      "execution_count": 188,
      "outputs": []
    },
    {
      "cell_type": "code",
      "source": [
        "timeseries_df = pd.read_csv(input_dataset_path, sep='\\t', index_col=0, header=None).astype(np.float32).sample(DATASET_SIZE)\n",
        "TIME_SERIES_ID = timeseries_df.index.tolist()"
      ],
      "metadata": {
        "id": "jARNmYaJoUd-"
      },
      "execution_count": 189,
      "outputs": []
    },
    {
      "cell_type": "code",
      "source": [
        "def normalize(X, mu, sigma):\n",
        "  return (X - mu)/sigma \n",
        "\n",
        "def reverse_normalize(X, mu, sigma):\n",
        "  return X*sigma + mu \n",
        "\n",
        "def preprocess_timeseries(_timeseries, window=10, normalized=False, mu = None, sigma = None):\n",
        "  if not normalized:\n",
        "    if mu is None:\n",
        "      mu = _timeseries.mean()\n",
        "    if sigma is None:\n",
        "      sigma = _timeseries.std()\n",
        "\n",
        "    timeseries = normalize(_timeseries, mu, sigma)\n",
        "  else:\n",
        "    timeseries = _timeseries\n",
        "  \n",
        "  X = None\n",
        "  for i in range(window, len(timeseries)):\n",
        "    X_i = np.asarray(timeseries[i-window:i]).reshape((1, len(timeseries[i-window:i]), 1))\n",
        "    X = np.concatenate((X, X_i)) if X is not None else X_i\n",
        "    \n",
        "  return X, mu, sigma"
      ],
      "metadata": {
        "id": "mAptNRCWoXLI"
      },
      "execution_count": 190,
      "outputs": []
    },
    {
      "cell_type": "code",
      "source": [
        "window_length = 10\n",
        "X_all, mu, sigma = preprocess_timeseries(timeseries_df.to_numpy()[0], window_length)\n",
        "print(X_all.shape)\n",
        "X_train, X_test = train_test_split(X_all, test_size=0.33)"
      ],
      "metadata": {
        "colab": {
          "base_uri": "https://localhost:8080/"
        },
        "id": "j9xbm3R1pDWP",
        "outputId": "0171abc2-bd6f-4398-d40c-5fad590e516e"
      },
      "execution_count": 191,
      "outputs": [
        {
          "output_type": "stream",
          "name": "stdout",
          "text": [
            "(720, 10, 1)\n"
          ]
        }
      ]
    },
    {
      "cell_type": "code",
      "execution_count": 196,
      "metadata": {
        "colab": {
          "base_uri": "https://localhost:8080/"
        },
        "id": "t6yI9zW9jx0Z",
        "outputId": "1bcb3980-4150-47a7-ad28-814959a68cf1"
      },
      "outputs": [
        {
          "output_type": "stream",
          "name": "stdout",
          "text": [
            "Model: \"model_119\"\n",
            "_________________________________________________________________\n",
            " Layer (type)                Output Shape              Param #   \n",
            "=================================================================\n",
            " input_64 (InputLayer)       [(None, 10, 1)]           0         \n",
            "                                                                 \n",
            " conv1d_317 (Conv1D)         (None, 10, 13)            52        \n",
            "                                                                 \n",
            " max_pooling1d_129 (MaxPooli  (None, 5, 13)            0         \n",
            " ng1D)                                                           \n",
            "                                                                 \n",
            " conv1d_318 (Conv1D)         (None, 5, 10)             1050      \n",
            "                                                                 \n",
            " max_pooling1d_130 (MaxPooli  (None, 3, 10)            0         \n",
            " ng1D)                                                           \n",
            "                                                                 \n",
            " conv1d_319 (Conv1D)         (None, 3, 3)              153       \n",
            "                                                                 \n",
            " max_pooling1d_131 (MaxPooli  (None, 2, 3)             0         \n",
            " ng1D)                                                           \n",
            "                                                                 \n",
            " conv1d_320 (Conv1D)         (None, 2, 3)              48        \n",
            "                                                                 \n",
            " up_sampling1d_126 (UpSampli  (None, 4, 3)             0         \n",
            " ng1D)                                                           \n",
            "                                                                 \n",
            " conv1d_321 (Conv1D)         (None, 4, 10)             250       \n",
            "                                                                 \n",
            " up_sampling1d_127 (UpSampli  (None, 8, 10)            0         \n",
            " ng1D)                                                           \n",
            "                                                                 \n",
            " conv1d_322 (Conv1D)         (None, 5, 13)             533       \n",
            "                                                                 \n",
            " up_sampling1d_128 (UpSampli  (None, 10, 13)           0         \n",
            " ng1D)                                                           \n",
            "                                                                 \n",
            " conv1d_323 (Conv1D)         (None, 10, 1)             40        \n",
            "                                                                 \n",
            "=================================================================\n",
            "Total params: 2,126\n",
            "Trainable params: 2,126\n",
            "Non-trainable params: 0\n",
            "_________________________________________________________________\n"
          ]
        }
      ],
      "source": [
        "input_window = layers.Input(shape=(window_length,1))\n",
        "x = layers.Conv1D(13, 3, activation=\"relu\", padding=\"same\")(input_window) # 10 dims\n",
        "#x = BatchNormalization()(x)\n",
        "x = layers.MaxPooling1D(2, padding=\"same\")(x) # 5 dims\n",
        "x = layers.Conv1D(10, 8, activation=\"relu\", padding=\"same\")(x) # 10 dims\n",
        "#x = BatchNormalization()(x)\n",
        "x = layers.MaxPooling1D(2, padding=\"same\")(x) # 5 dims\n",
        "x = layers.Conv1D(3, 5, activation=\"relu\", padding=\"same\")(x) # 5 dims\n",
        "#x = BatchNormalization()(x)\n",
        "encoded = layers.MaxPooling1D(2, padding=\"same\")(x) # 3 dims\n",
        "\n",
        "encoder = models.Model(input_window, encoded)\n",
        "\n",
        "# 3 dimensions in the encoded layer\n",
        "\n",
        "x = layers.Conv1D(3, 5, activation=\"relu\", padding=\"same\")(encoded) # 3 dims\n",
        "#x = BatchNormalization()(x)\n",
        "x = layers.UpSampling1D(2)(x) # 6 dims\n",
        "x = layers.Conv1D(10, 8, activation='relu', padding=\"same\")(x) # 5 dims\n",
        "x = layers.UpSampling1D(2)(x) # 6 dims\n",
        "x = layers.Conv1D(13, 4, activation='relu')(x) # 5 dims\n",
        "#x = BatchNormalization()(x)\n",
        "x = layers.UpSampling1D(2)(x) # 10 dims\n",
        "decoded = layers.Conv1D(1, 3, activation='sigmoid', padding='same')(x) # 10 dims\n",
        "autoencoder = models.Model(input_window, decoded)\n",
        "autoencoder.summary()\n",
        "\n",
        "autoencoder.compile(optimizer='adam', loss='binary_crossentropy')\n"
      ]
    },
    {
      "cell_type": "code",
      "source": [
        "history = autoencoder.fit(X_train, X_train,\n",
        "                epochs=25,\n",
        "                batch_size=1024,\n",
        "                shuffle=True,\n",
        "                validation_data=(X_test, X_test))\n",
        "\n",
        "decoded_stocks = autoencoder.predict(X_test)\n",
        "\n"
      ],
      "metadata": {
        "colab": {
          "base_uri": "https://localhost:8080/"
        },
        "id": "xzx9WA0j5C0a",
        "outputId": "fec1395d-07f4-4132-e5f4-a6c314dfc1db"
      },
      "execution_count": 197,
      "outputs": [
        {
          "output_type": "stream",
          "name": "stdout",
          "text": [
            "Epoch 1/25\n",
            "1/1 [==============================] - 2s 2s/step - loss: 0.6897 - val_loss: 0.6868\n",
            "Epoch 2/25\n",
            "1/1 [==============================] - 0s 80ms/step - loss: 0.6857 - val_loss: 0.6834\n",
            "Epoch 3/25\n",
            "1/1 [==============================] - 0s 72ms/step - loss: 0.6822 - val_loss: 0.6805\n",
            "Epoch 4/25\n",
            "1/1 [==============================] - 0s 78ms/step - loss: 0.6791 - val_loss: 0.6775\n",
            "Epoch 5/25\n",
            "1/1 [==============================] - 0s 73ms/step - loss: 0.6759 - val_loss: 0.6739\n",
            "Epoch 6/25\n",
            "1/1 [==============================] - 0s 88ms/step - loss: 0.6720 - val_loss: 0.6698\n",
            "Epoch 7/25\n",
            "1/1 [==============================] - 0s 71ms/step - loss: 0.6675 - val_loss: 0.6653\n",
            "Epoch 8/25\n",
            "1/1 [==============================] - 0s 72ms/step - loss: 0.6625 - val_loss: 0.6605\n",
            "Epoch 9/25\n",
            "1/1 [==============================] - 0s 65ms/step - loss: 0.6572 - val_loss: 0.6553\n",
            "Epoch 10/25\n",
            "1/1 [==============================] - 0s 71ms/step - loss: 0.6514 - val_loss: 0.6497\n",
            "Epoch 11/25\n",
            "1/1 [==============================] - 0s 80ms/step - loss: 0.6450 - val_loss: 0.6433\n",
            "Epoch 12/25\n",
            "1/1 [==============================] - 0s 70ms/step - loss: 0.6378 - val_loss: 0.6362\n",
            "Epoch 13/25\n",
            "1/1 [==============================] - 0s 71ms/step - loss: 0.6297 - val_loss: 0.6283\n",
            "Epoch 14/25\n",
            "1/1 [==============================] - 0s 74ms/step - loss: 0.6207 - val_loss: 0.6196\n",
            "Epoch 15/25\n",
            "1/1 [==============================] - 0s 73ms/step - loss: 0.6108 - val_loss: 0.6102\n",
            "Epoch 16/25\n",
            "1/1 [==============================] - 0s 93ms/step - loss: 0.6000 - val_loss: 0.5999\n",
            "Epoch 17/25\n",
            "1/1 [==============================] - 0s 77ms/step - loss: 0.5880 - val_loss: 0.5885\n",
            "Epoch 18/25\n",
            "1/1 [==============================] - 0s 93ms/step - loss: 0.5748 - val_loss: 0.5758\n",
            "Epoch 19/25\n",
            "1/1 [==============================] - 0s 91ms/step - loss: 0.5601 - val_loss: 0.5621\n",
            "Epoch 20/25\n",
            "1/1 [==============================] - 0s 70ms/step - loss: 0.5441 - val_loss: 0.5472\n",
            "Epoch 21/25\n",
            "1/1 [==============================] - 0s 76ms/step - loss: 0.5268 - val_loss: 0.5311\n",
            "Epoch 22/25\n",
            "1/1 [==============================] - 0s 71ms/step - loss: 0.5079 - val_loss: 0.5136\n",
            "Epoch 23/25\n",
            "1/1 [==============================] - 0s 92ms/step - loss: 0.4875 - val_loss: 0.4948\n",
            "Epoch 24/25\n",
            "1/1 [==============================] - 0s 77ms/step - loss: 0.4654 - val_loss: 0.4747\n",
            "Epoch 25/25\n",
            "1/1 [==============================] - 0s 63ms/step - loss: 0.4417 - val_loss: 0.4534\n"
          ]
        }
      ]
    },
    {
      "cell_type": "code",
      "source": [
        "def plot_examples(stock_input, stock_decoded):\n",
        "    n = 10  \n",
        "    plt.figure(figsize=(20, 4))\n",
        "    for i, idx in enumerate(list(np.arange(0, test_samples, 200))):\n",
        "        # display original\n",
        "        ax = plt.subplot(2, n, i + 1)\n",
        "        if i == 0:\n",
        "            ax.set_ylabel(\"Input\", fontweight=600)\n",
        "        else:\n",
        "            ax.get_yaxis().set_visible(False)\n",
        "        plt.plot(stock_input[idx])\n",
        "        ax.get_xaxis().set_visible(False)\n",
        "        \n",
        "\n",
        "        # display reconstruction\n",
        "        ax = plt.subplot(2, n, i + 1 + n)\n",
        "        if i == 0:\n",
        "            ax.set_ylabel(\"Output\", fontweight=600)\n",
        "        else:\n",
        "            ax.get_yaxis().set_visible(False)\n",
        "        plt.plot(stock_decoded[idx])\n",
        "        ax.get_xaxis().set_visible(False)"
      ],
      "metadata": {
        "id": "TOaFYVA9ptRb"
      },
      "execution_count": 198,
      "outputs": []
    },
    {
      "cell_type": "code",
      "source": [
        "test_samples = 100\n",
        "plot_examples(reverse_normalize(X_test, mu, sigma), reverse_normalize(autoencoder.predict(X_test), mu, sigma))"
      ],
      "metadata": {
        "colab": {
          "base_uri": "https://localhost:8080/",
          "height": 248
        },
        "id": "MfMbWQbYseyI",
        "outputId": "54348d0c-b6a2-401a-b3b9-98122f4ea856"
      },
      "execution_count": 199,
      "outputs": [
        {
          "output_type": "display_data",
          "data": {
            "image/png": "[encoded data removed]",
            "text/plain": [
              "<Figure size 1440x288 with 2 Axes>"
            ]
          },
          "metadata": {}
        }
      ]
    },
    {
      "cell_type": "code",
      "source": [
        ""
      ],
      "metadata": {
        "id": "Pvk7ZIJ0yHmR"
      },
      "execution_count": 195,
      "outputs": []
    }
  ]
}