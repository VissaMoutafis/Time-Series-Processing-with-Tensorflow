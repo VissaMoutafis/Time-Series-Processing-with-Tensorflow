{
  "nbformat": 4,
  "nbformat_minor": 0,
  "metadata": {
    "colab": {
      "name": "AutoEncoder.ipynb",
      "provenance": [],
      "collapsed_sections": [],
      "authorship_tag": "ABX9TyPKBEPTLcOMPZq1fknrW6/h",
      "include_colab_link": true
    },
    "kernelspec": {
      "name": "python3",
      "display_name": "Python 3"
    },
    "language_info": {
      "name": "python"
    }
  },
  "cells": [
    {
      "cell_type": "markdown",
      "metadata": {
        "id": "view-in-github",
        "colab_type": "text"
      },
      "source": [
        "<a href=\"https://colab.research.google.com/github/VissaMoutafis/Time-Series-Processing-with-Tensorflow/blob/main/AutoEncoder.ipynb\" target=\"_parent\"><img src=\"https://colab.research.google.com/assets/colab-badge.svg\" alt=\"Open In Colab\"/></a>"
      ]
    },
    {
      "cell_type": "code",
      "execution_count": 15,
      "metadata": {
        "colab": {
          "base_uri": "https://localhost:8080/"
        },
        "id": "92ysoe2BlKKw",
        "outputId": "94f96157-a609-45d4-db43-302de75e60c6"
      },
      "outputs": [
        {
          "output_type": "stream",
          "name": "stdout",
          "text": [
            "cuda:0\n"
          ]
        },
        {
          "output_type": "execute_result",
          "data": {
            "text/plain": [
              "<torch._C.Generator at 0x7f2877cf5650>"
            ]
          },
          "metadata": {},
          "execution_count": 15
        }
      ],
      "source": [
        "import argparse\n",
        "import sys\n",
        "\n",
        "sys.path.append('..')\n",
        "import numpy as np\n",
        "import pandas as pd\n",
        "\n",
        "from keras import layers, optimizers, losses, metrics\n",
        "from keras.models import Sequential\n",
        "from keras import Model\n",
        "from tensorflow.keras.optimizers import RMSprop\n",
        "from keras.models import load_model\n",
        "\n",
        "from sklearn.model_selection import train_test_split\n",
        "\n",
        "from keras.layers.convolutional import Conv2D\n",
        "from tensorflow.keras.layers import BatchNormalization\n",
        "from keras.layers import MaxPooling2D\n",
        "from keras.layers import UpSampling2D\n",
        "from keras import Input\n",
        "\n",
        "from keras.models import load_model\n",
        "\n",
        "from matplotlib import pyplot as plt\n",
        "\n",
        "import tensorflow as tf\n",
        "\t\n",
        "import webbrowser\n",
        "\n",
        "import torch\n",
        "\n",
        "from torchtext.data.utils import get_tokenizer\n",
        "import torch.nn as nn\n",
        "import torchvision.transforms as transforms\n",
        "import torchvision.datasets as dsets\n",
        "import torch.nn.functional as F\n",
        "\n",
        "device = torch.device(\"cuda:0\" if torch.cuda.is_available else \"cpu\")\n",
        "print(device)\n",
        "\n",
        "np.random.seed(1)\n",
        "torch.manual_seed(0)"
      ]
    },
    {
      "cell_type": "code",
      "source": [
        "import numpy as np \n",
        "import pandas as pd\n",
        "import matplotlib.pyplot as plt\n",
        "from matplotlib.pyplot import figure\n",
        "\n",
        "from sklearn.model_selection import train_test_split \n",
        "from sklearn.preprocessing import MinMaxScaler\n",
        "\n",
        "import tensorflow as tf\n",
        "from tensorflow.keras import layers, models\n",
        "from keras.callbacks import EarlyStopping"
      ],
      "metadata": {
        "id": "GrSwYwOZsZ6c"
      },
      "execution_count": 16,
      "outputs": []
    },
    {
      "cell_type": "code",
      "source": [
        "from google.colab import drive\n",
        "drive.mount('/content/drive')"
      ],
      "metadata": {
        "colab": {
          "base_uri": "https://localhost:8080/"
        },
        "id": "VbLifkRmR15J",
        "outputId": "b914bf4c-f0e4-46ab-daae-033872075c1c"
      },
      "execution_count": 17,
      "outputs": [
        {
          "output_type": "stream",
          "name": "stdout",
          "text": [
            "Drive already mounted at /content/drive; to attempt to forcibly remount, call drive.mount(\"/content/drive\", force_remount=True).\n"
          ]
        }
      ]
    },
    {
      "cell_type": "code",
      "source": [
        "input_dataset_path = 'drive/MyDrive/Project-Datasets/nasd_input.csv'\n",
        "query_dataset_path = 'drive/MyDrive/Project-Datasets/nasd_query.csv'\n",
        "DATASET_SIZE = 1\n",
        "LOOKBACK = 20"
      ],
      "metadata": {
        "id": "PK0QdFyPR0xK"
      },
      "execution_count": 18,
      "outputs": []
    },
    {
      "cell_type": "code",
      "source": [
        "timeseries_df = pd.read_csv(input_dataset_path, sep='\\t', index_col=0, header=None).astype(np.float32).sample(DATASET_SIZE)\n",
        "TIME_SERIES_ID = timeseries_df.index.tolist()"
      ],
      "metadata": {
        "id": "AuisUvJqR2Mo"
      },
      "execution_count": 19,
      "outputs": []
    },
    {
      "cell_type": "code",
      "source": [
        "mu = None\n",
        "sigma = None\n",
        "def normalize(dataset):\n",
        "  return (dataset - mu)/sigma \n",
        "\n",
        "def reverse_normalize(dataset):\n",
        "  return dataset*sigma + mu "
      ],
      "metadata": {
        "id": "V9IABDKIqTWB"
      },
      "execution_count": 20,
      "outputs": []
    },
    {
      "cell_type": "code",
      "source": [
        "def create_dataset(X, y, time_steps=1):\n",
        "    Xs, ys = [], []\n",
        "    for i in range(len(X) - time_steps):\n",
        "        v = X[i:(i + time_steps)]\n",
        "        Xs.append(v)\n",
        "        ys.append(y[i + time_steps])\n",
        "    return np.array(Xs), np.array(ys)"
      ],
      "metadata": {
        "id": "TVJ0u_mm013k"
      },
      "execution_count": 21,
      "outputs": []
    },
    {
      "cell_type": "code",
      "source": [
        "print(timeseries_df.to_numpy().shape)"
      ],
      "metadata": {
        "colab": {
          "base_uri": "https://localhost:8080/"
        },
        "id": "KzbftAqK2NUF",
        "outputId": "8e5ae09d-9c13-440a-a67c-d0c92782e57d"
      },
      "execution_count": 22,
      "outputs": [
        {
          "output_type": "stream",
          "name": "stdout",
          "text": [
            "(1, 730)\n"
          ]
        }
      ]
    },
    {
      "cell_type": "code",
      "source": [
        "X_train, y_train = create_dataset(timeseries_df.to_numpy().reshape(-1),timeseries_df.to_numpy().reshape(-1),LOOKBACK)"
      ],
      "metadata": {
        "id": "ZjIOYIYz1TEd"
      },
      "execution_count": 23,
      "outputs": []
    },
    {
      "cell_type": "code",
      "source": [
        "X_train = X_train.reshape((X_train.shape[0],X_train.shape[1],1))\n",
        "print(X_train.shape)\n",
        "y_train = y_train.reshape(-1)"
      ],
      "metadata": {
        "colab": {
          "base_uri": "https://localhost:8080/"
        },
        "id": "Uwjv8wb53-1j",
        "outputId": "c894a8fb-c73f-4461-fd05-8d80a5a0cf07"
      },
      "execution_count": 24,
      "outputs": [
        {
          "output_type": "stream",
          "name": "stdout",
          "text": [
            "(710, 20, 1)\n"
          ]
        }
      ]
    },
    {
      "cell_type": "code",
      "source": [
        "def preprocess_dataset(df, lag=1):\n",
        "  global sigma\n",
        "  global mu\n",
        "  dataset = df.to_numpy()\n",
        "  \n",
        "  if sigma is None: sigma = dataset.std()\n",
        "  if mu is None: mu = dataset.mean()\n",
        "\n",
        "  dataset = normalize(dataset)\n",
        "  # divide the time series in input instances of X: #lag steps y: #lag+1-th value of the time series \n",
        "  # so we acquire #df * (complexity(df)-lag)\n",
        "  X = None\n",
        "  y = None\n",
        "  for timeseries in dataset:\n",
        "    X_i = None\n",
        "    y_i = None \n",
        "    for i in range(lag, len(timeseries)):\n",
        "      X_ij = np.asarray(timeseries[i-lag:i]).reshape((1, len(timeseries[i-lag:i]), 1))\n",
        "      X_i = np.concatenate((X_i, X_ij)) if X_i is not None else X_ij\n",
        "      y_ij = np.asarray(timeseries[i]).reshape((-1, 1))\n",
        "      y_i = np.concatenate((y_i, y_ij)) if y_i is not None else y_ij\n",
        "    \n",
        "    X = np.concatenate((X, X_i), axis=-1) if X is not None else X_i\n",
        "    y = np.concatenate((y, y_i), axis=-1) if y is not None else y_i\n",
        "\n",
        "  return train_test_split(X, y, test_size=0.2)"
      ],
      "metadata": {
        "id": "rHl2PVnt0v4B"
      },
      "execution_count": 25,
      "outputs": []
    },
    {
      "cell_type": "code",
      "source": [
        "class LSTMAutoEncoder(nn.Module):\n",
        "    def __init__(self, input_dim, lstm_units, actv_fn, dropout=None, _optimizer='adam', _loss='mse'):\n",
        "        super(LSTMAutoEncoder, self).__init__()\n",
        "        self.history = {}\n",
        "        self.D_train = None\n",
        "        self.D_test = None\n",
        "        self.lstm_units = lstm_units\n",
        "        self.dropout = dropout\n",
        "        self.optimizer = _optimizer\n",
        "        self.loss = _loss\n",
        "        self.input_dim = input_dim\n",
        "        self.models = {}\n",
        "        self.input_dim = input_dim      \n",
        "        self.activation = nn.ReLU()\n",
        "        self.device = device\n",
        "        \n",
        "        self.model = models.Sequential()\n",
        "        #encoder loop\n",
        "        for i, u in enumerate(self.lstm_units):\n",
        "          if i == 0: \n",
        "            encoded = layers.LSTM(units=u, return_sequences=True, input_shape=self.input_dim)\n",
        "            self.model.add(encoded)\n",
        "\n",
        "          elif i == len(self.lstm_units) - 1:\n",
        "            encoded = layers.LSTM(units=u)\n",
        "            self.model.add(encoded)\n",
        "            self.decoded = layers.RepeatVector(input_dim[0])\n",
        "\n",
        "          else: \n",
        "            self.model.add(layers.LSTM(units=u, return_sequences=True))\n",
        "          if self.dropout is not None:\n",
        "            self.model.add(layers.Dropout(self.dropout))\n",
        "\n",
        "        self.model.add(self.decoded)\n",
        "\n",
        "        #decoder loop \n",
        "        for i, u in enumerate(self.lstm_units):\n",
        "          if i == len(self.lstm_units) - 1:\n",
        "            encoded = layers.LSTM(units=u,return_sequences=True)\n",
        "            self.model.add(encoded)\n",
        "          else: \n",
        "            self.model.add(layers.LSTM(units=u, return_sequences=True))\n",
        "          if self.dropout is not None:\n",
        "            self.model.add(layers.Dropout(self.dropout))\n",
        "\n",
        "        # final output layer\n",
        "        self.model.add(layers.TimeDistributed(layers.Dense(units=input_dim[-1])))\n",
        "        \n",
        "        self.model.compile(optimizer=self.optimizer, loss=self.loss)\n",
        "\n",
        "    def fit(self, X, y, epochs=100, batch_size=128):\n",
        "      X_train, X_test, y_train, y_test = train_test_split(X, y, test_size=0.33)\n",
        "      self.D_train = X_train, y_train\n",
        "      self.D_test = X_test, y_test\n",
        "      self.history = self.model.fit(X_train, y_train, validation_data=(X_test, y_test), epochs=epochs, batch_size=batch_size, verbose=1)\n",
        "      return self.history"
      ],
      "metadata": {
        "id": "SVhfKPJjG_6v"
      },
      "execution_count": 47,
      "outputs": []
    },
    {
      "cell_type": "code",
      "source": [
        "print(X_train.shape)\n",
        "model = LSTMAutoEncoder(X_train.shape[1:],[50, 50,100],nn.ReLU,dropout=0.3)"
      ],
      "metadata": {
        "id": "eEMRs-Z_yOCz",
        "colab": {
          "base_uri": "https://localhost:8080/"
        },
        "outputId": "3d31c347-270e-4f7c-f272-8a6192bca9a9"
      },
      "execution_count": 48,
      "outputs": [
        {
          "output_type": "stream",
          "name": "stdout",
          "text": [
            "(710, 20, 1)\n"
          ]
        }
      ]
    },
    {
      "cell_type": "code",
      "source": [
        "model.fit(X_train, y_train, epochs=50)"
      ],
      "metadata": {
        "colab": {
          "base_uri": "https://localhost:8080/"
        },
        "id": "7UP-oWqZ0UQu",
        "outputId": "dd5e67fb-d992-4235-ac84-a0ba54a24e61"
      },
      "execution_count": 49,
      "outputs": [
        {
          "output_type": "stream",
          "name": "stdout",
          "text": [
            "Epoch 1/50\n",
            "4/4 [==============================] - 12s 924ms/step - loss: 346.5406 - val_loss: 331.8066\n",
            "Epoch 2/50\n",
            "4/4 [==============================] - 1s 198ms/step - loss: 305.2110 - val_loss: 260.6688\n",
            "Epoch 3/50\n",
            "4/4 [==============================] - 1s 200ms/step - loss: 233.2160 - val_loss: 189.1213\n",
            "Epoch 4/50\n",
            "4/4 [==============================] - 1s 203ms/step - loss: 167.8773 - val_loss: 135.5679\n",
            "Epoch 5/50\n",
            "4/4 [==============================] - 1s 202ms/step - loss: 120.0868 - val_loss: 97.7979\n",
            "Epoch 6/50\n",
            "4/4 [==============================] - 1s 206ms/step - loss: 87.3366 - val_loss: 71.9497\n",
            "Epoch 7/50\n",
            "4/4 [==============================] - 1s 204ms/step - loss: 64.9471 - val_loss: 54.9214\n",
            "Epoch 8/50\n",
            "4/4 [==============================] - 1s 207ms/step - loss: 50.2789 - val_loss: 43.7124\n",
            "Epoch 9/50\n",
            "4/4 [==============================] - 1s 201ms/step - loss: 40.7058 - val_loss: 36.0890\n",
            "Epoch 10/50\n",
            "4/4 [==============================] - 1s 201ms/step - loss: 34.0840 - val_loss: 30.6573\n",
            "Epoch 11/50\n",
            "4/4 [==============================] - 1s 199ms/step - loss: 29.3651 - val_loss: 26.6238\n",
            "Epoch 12/50\n",
            "4/4 [==============================] - 1s 198ms/step - loss: 25.8440 - val_loss: 23.5151\n",
            "Epoch 13/50\n",
            "4/4 [==============================] - 1s 203ms/step - loss: 23.0920 - val_loss: 21.0779\n",
            "Epoch 14/50\n",
            "4/4 [==============================] - 1s 207ms/step - loss: 20.9656 - val_loss: 19.1244\n",
            "Epoch 15/50\n",
            "4/4 [==============================] - 1s 202ms/step - loss: 19.2928 - val_loss: 17.5423\n",
            "Epoch 16/50\n",
            "4/4 [==============================] - 1s 202ms/step - loss: 18.0313 - val_loss: 16.2879\n",
            "Epoch 17/50\n",
            "4/4 [==============================] - 1s 202ms/step - loss: 17.0131 - val_loss: 15.2710\n",
            "Epoch 18/50\n",
            "4/4 [==============================] - 1s 202ms/step - loss: 16.1475 - val_loss: 14.4492\n",
            "Epoch 19/50\n",
            "4/4 [==============================] - 1s 201ms/step - loss: 15.3573 - val_loss: 13.7793\n",
            "Epoch 20/50\n",
            "4/4 [==============================] - 1s 200ms/step - loss: 14.8362 - val_loss: 13.2308\n",
            "Epoch 21/50\n",
            "4/4 [==============================] - 1s 202ms/step - loss: 14.2675 - val_loss: 12.7781\n",
            "Epoch 22/50\n",
            "4/4 [==============================] - 1s 208ms/step - loss: 13.9037 - val_loss: 12.3955\n",
            "Epoch 23/50\n",
            "4/4 [==============================] - 1s 199ms/step - loss: 13.6839 - val_loss: 12.0706\n",
            "Epoch 24/50\n",
            "4/4 [==============================] - 1s 198ms/step - loss: 13.4280 - val_loss: 11.7979\n",
            "Epoch 25/50\n",
            "4/4 [==============================] - 1s 205ms/step - loss: 13.0702 - val_loss: 11.5583\n",
            "Epoch 26/50\n",
            "4/4 [==============================] - 1s 204ms/step - loss: 12.8863 - val_loss: 11.3454\n",
            "Epoch 27/50\n",
            "4/4 [==============================] - 1s 207ms/step - loss: 12.6125 - val_loss: 11.1592\n",
            "Epoch 28/50\n",
            "4/4 [==============================] - 1s 199ms/step - loss: 12.4802 - val_loss: 10.9915\n",
            "Epoch 29/50\n",
            "4/4 [==============================] - 1s 202ms/step - loss: 12.3825 - val_loss: 10.8403\n",
            "Epoch 30/50\n",
            "4/4 [==============================] - 1s 202ms/step - loss: 12.1626 - val_loss: 10.7017\n",
            "Epoch 31/50\n",
            "4/4 [==============================] - 1s 207ms/step - loss: 12.0538 - val_loss: 10.5753\n",
            "Epoch 32/50\n",
            "4/4 [==============================] - 1s 200ms/step - loss: 11.9032 - val_loss: 10.4595\n",
            "Epoch 33/50\n",
            "4/4 [==============================] - 1s 204ms/step - loss: 11.7555 - val_loss: 10.3520\n",
            "Epoch 34/50\n",
            "4/4 [==============================] - 1s 206ms/step - loss: 11.6858 - val_loss: 10.2517\n",
            "Epoch 35/50\n",
            "4/4 [==============================] - 1s 202ms/step - loss: 11.5844 - val_loss: 10.1579\n",
            "Epoch 36/50\n",
            "4/4 [==============================] - 1s 207ms/step - loss: 11.4467 - val_loss: 10.0688\n",
            "Epoch 37/50\n",
            "4/4 [==============================] - 1s 198ms/step - loss: 11.3667 - val_loss: 9.9878\n",
            "Epoch 38/50\n",
            "4/4 [==============================] - 1s 199ms/step - loss: 11.3073 - val_loss: 9.9118\n",
            "Epoch 39/50\n",
            "4/4 [==============================] - 1s 199ms/step - loss: 11.1923 - val_loss: 9.8369\n",
            "Epoch 40/50\n",
            "4/4 [==============================] - 1s 194ms/step - loss: 11.2341 - val_loss: 9.7696\n",
            "Epoch 41/50\n",
            "4/4 [==============================] - 1s 191ms/step - loss: 11.0657 - val_loss: 9.7045\n",
            "Epoch 42/50\n",
            "4/4 [==============================] - 1s 195ms/step - loss: 11.0621 - val_loss: 9.6442\n",
            "Epoch 43/50\n",
            "4/4 [==============================] - 1s 195ms/step - loss: 10.8720 - val_loss: 9.5844\n",
            "Epoch 44/50\n",
            "4/4 [==============================] - 1s 193ms/step - loss: 10.8593 - val_loss: 9.5281\n",
            "Epoch 45/50\n",
            "4/4 [==============================] - 1s 193ms/step - loss: 10.7152 - val_loss: 9.4748\n",
            "Epoch 46/50\n",
            "4/4 [==============================] - 1s 200ms/step - loss: 10.7891 - val_loss: 9.4234\n",
            "Epoch 47/50\n",
            "4/4 [==============================] - 1s 196ms/step - loss: 10.7193 - val_loss: 9.3743\n",
            "Epoch 48/50\n",
            "4/4 [==============================] - 1s 199ms/step - loss: 10.6650 - val_loss: 9.3263\n",
            "Epoch 49/50\n",
            "4/4 [==============================] - 1s 199ms/step - loss: 10.5797 - val_loss: 9.2819\n",
            "Epoch 50/50\n",
            "4/4 [==============================] - 1s 203ms/step - loss: 10.5590 - val_loss: 9.2390\n"
          ]
        },
        {
          "output_type": "execute_result",
          "data": {
            "text/plain": [
              "<keras.callbacks.History at 0x7f2850fd4d50>"
            ]
          },
          "metadata": {},
          "execution_count": 49
        }
      ]
    },
    {
      "cell_type": "code",
      "source": [
        "import seaborn as sns\n",
        "X_train_pred = model.model.predict(X_train)\n",
        "\n",
        "train_mae_loss = np.mean(np.abs(X_train_pred - X_train), axis=1)\n",
        "sns.displot(train_mae_loss, bins=50, kde=True);"
      ],
      "metadata": {
        "colab": {
          "base_uri": "https://localhost:8080/",
          "height": 369
        },
        "id": "rn_MkzxG8I3c",
        "outputId": "6e4ff74e-ee5f-4383-b47f-2f3a0bd643bc"
      },
      "execution_count": 50,
      "outputs": [
        {
          "output_type": "display_data",
          "data": {
            "image/png": "[encoded data removed]",
            "text/plain": [
              "<Figure size 402.25x360 with 1 Axes>"
            ]
          },
          "metadata": {
            "needs_background": "light"
          }
        }
      ]
    }
  ]
}